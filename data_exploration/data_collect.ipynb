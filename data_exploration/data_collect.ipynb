{
 "cells": [
  {
   "cell_type": "code",
   "execution_count": 2,
   "id": "initial_id",
   "metadata": {
    "collapsed": true,
    "ExecuteTime": {
     "end_time": "2023-12-12T13:23:09.404645Z",
     "start_time": "2023-12-12T13:23:07.875376Z"
    }
   },
   "outputs": [
    {
     "name": "stderr",
     "output_type": "stream",
     "text": [
      "/opt/homebrew/lib/python3.11/site-packages/statsbombpy/api_client.py:21: NoAuthWarning: credentials were not supplied. open data access only\n",
      "  warnings.warn(\n"
     ]
    },
    {
     "data": {
      "text/plain": "    competition_id  season_id country_name  competition_name  \\\n1               16          4       Europe  Champions League   \n2               16          1       Europe  Champions League   \n3               16          2       Europe  Champions League   \n4               16         27       Europe  Champions League   \n5               16         26       Europe  Champions League   \n6               16         25       Europe  Champions League   \n7               16         24       Europe  Champions League   \n8               16         23       Europe  Champions League   \n9               16         22       Europe  Champions League   \n10              16         21       Europe  Champions League   \n11              16         41       Europe  Champions League   \n\n   competition_gender  competition_youth  competition_international  \\\n1                male              False                      False   \n2                male              False                      False   \n3                male              False                      False   \n4                male              False                      False   \n5                male              False                      False   \n6                male              False                      False   \n7                male              False                      False   \n8                male              False                      False   \n9                male              False                      False   \n10               male              False                      False   \n11               male              False                      False   \n\n   season_name               match_updated        match_updated_360  \\\n1    2018/2019  2023-03-07T12:20:48.118250  2021-06-13T16:17:31.694   \n2    2017/2018  2021-08-27T11:26:39.802832  2021-06-13T16:17:31.694   \n3    2016/2017  2021-08-27T11:26:39.802832  2021-06-13T16:17:31.694   \n4    2015/2016  2021-08-27T11:26:39.802832  2021-06-13T16:17:31.694   \n5    2014/2015  2021-08-27T11:26:39.802832  2021-06-13T16:17:31.694   \n6    2013/2014  2021-08-27T11:26:39.802832  2021-06-13T16:17:31.694   \n7    2012/2013  2021-08-27T11:26:39.802832  2021-06-13T16:17:31.694   \n8    2011/2012  2021-08-27T11:26:39.802832  2021-06-13T16:17:31.694   \n9    2010/2011  2022-01-26T21:07:11.033473  2021-06-13T16:17:31.694   \n10   2009/2010  2022-11-15T17:26:10.871011  2021-06-13T16:17:31.694   \n11   2008/2009  2021-11-07T14:20:01.699993  2021-06-13T16:17:31.694   \n\n   match_available_360             match_available  \n1                 None  2023-03-07T12:20:48.118250  \n2                 None  2021-01-23T21:55:30.425330  \n3                 None            2020-07-29T05:00  \n4                 None            2020-07-29T05:00  \n5                 None            2020-07-29T05:00  \n6                 None            2020-07-29T05:00  \n7                 None     2021-07-10T13:41:45.751  \n8                 None            2020-07-29T05:00  \n9                 None  2022-01-26T21:07:11.033473  \n10                None  2022-11-15T17:26:10.871011  \n11                None  2021-11-07T14:20:01.699993  ",
      "text/html": "<div>\n<style scoped>\n    .dataframe tbody tr th:only-of-type {\n        vertical-align: middle;\n    }\n\n    .dataframe tbody tr th {\n        vertical-align: top;\n    }\n\n    .dataframe thead th {\n        text-align: right;\n    }\n</style>\n<table border=\"1\" class=\"dataframe\">\n  <thead>\n    <tr style=\"text-align: right;\">\n      <th></th>\n      <th>competition_id</th>\n      <th>season_id</th>\n      <th>country_name</th>\n      <th>competition_name</th>\n      <th>competition_gender</th>\n      <th>competition_youth</th>\n      <th>competition_international</th>\n      <th>season_name</th>\n      <th>match_updated</th>\n      <th>match_updated_360</th>\n      <th>match_available_360</th>\n      <th>match_available</th>\n    </tr>\n  </thead>\n  <tbody>\n    <tr>\n      <th>1</th>\n      <td>16</td>\n      <td>4</td>\n      <td>Europe</td>\n      <td>Champions League</td>\n      <td>male</td>\n      <td>False</td>\n      <td>False</td>\n      <td>2018/2019</td>\n      <td>2023-03-07T12:20:48.118250</td>\n      <td>2021-06-13T16:17:31.694</td>\n      <td>None</td>\n      <td>2023-03-07T12:20:48.118250</td>\n    </tr>\n    <tr>\n      <th>2</th>\n      <td>16</td>\n      <td>1</td>\n      <td>Europe</td>\n      <td>Champions League</td>\n      <td>male</td>\n      <td>False</td>\n      <td>False</td>\n      <td>2017/2018</td>\n      <td>2021-08-27T11:26:39.802832</td>\n      <td>2021-06-13T16:17:31.694</td>\n      <td>None</td>\n      <td>2021-01-23T21:55:30.425330</td>\n    </tr>\n    <tr>\n      <th>3</th>\n      <td>16</td>\n      <td>2</td>\n      <td>Europe</td>\n      <td>Champions League</td>\n      <td>male</td>\n      <td>False</td>\n      <td>False</td>\n      <td>2016/2017</td>\n      <td>2021-08-27T11:26:39.802832</td>\n      <td>2021-06-13T16:17:31.694</td>\n      <td>None</td>\n      <td>2020-07-29T05:00</td>\n    </tr>\n    <tr>\n      <th>4</th>\n      <td>16</td>\n      <td>27</td>\n      <td>Europe</td>\n      <td>Champions League</td>\n      <td>male</td>\n      <td>False</td>\n      <td>False</td>\n      <td>2015/2016</td>\n      <td>2021-08-27T11:26:39.802832</td>\n      <td>2021-06-13T16:17:31.694</td>\n      <td>None</td>\n      <td>2020-07-29T05:00</td>\n    </tr>\n    <tr>\n      <th>5</th>\n      <td>16</td>\n      <td>26</td>\n      <td>Europe</td>\n      <td>Champions League</td>\n      <td>male</td>\n      <td>False</td>\n      <td>False</td>\n      <td>2014/2015</td>\n      <td>2021-08-27T11:26:39.802832</td>\n      <td>2021-06-13T16:17:31.694</td>\n      <td>None</td>\n      <td>2020-07-29T05:00</td>\n    </tr>\n    <tr>\n      <th>6</th>\n      <td>16</td>\n      <td>25</td>\n      <td>Europe</td>\n      <td>Champions League</td>\n      <td>male</td>\n      <td>False</td>\n      <td>False</td>\n      <td>2013/2014</td>\n      <td>2021-08-27T11:26:39.802832</td>\n      <td>2021-06-13T16:17:31.694</td>\n      <td>None</td>\n      <td>2020-07-29T05:00</td>\n    </tr>\n    <tr>\n      <th>7</th>\n      <td>16</td>\n      <td>24</td>\n      <td>Europe</td>\n      <td>Champions League</td>\n      <td>male</td>\n      <td>False</td>\n      <td>False</td>\n      <td>2012/2013</td>\n      <td>2021-08-27T11:26:39.802832</td>\n      <td>2021-06-13T16:17:31.694</td>\n      <td>None</td>\n      <td>2021-07-10T13:41:45.751</td>\n    </tr>\n    <tr>\n      <th>8</th>\n      <td>16</td>\n      <td>23</td>\n      <td>Europe</td>\n      <td>Champions League</td>\n      <td>male</td>\n      <td>False</td>\n      <td>False</td>\n      <td>2011/2012</td>\n      <td>2021-08-27T11:26:39.802832</td>\n      <td>2021-06-13T16:17:31.694</td>\n      <td>None</td>\n      <td>2020-07-29T05:00</td>\n    </tr>\n    <tr>\n      <th>9</th>\n      <td>16</td>\n      <td>22</td>\n      <td>Europe</td>\n      <td>Champions League</td>\n      <td>male</td>\n      <td>False</td>\n      <td>False</td>\n      <td>2010/2011</td>\n      <td>2022-01-26T21:07:11.033473</td>\n      <td>2021-06-13T16:17:31.694</td>\n      <td>None</td>\n      <td>2022-01-26T21:07:11.033473</td>\n    </tr>\n    <tr>\n      <th>10</th>\n      <td>16</td>\n      <td>21</td>\n      <td>Europe</td>\n      <td>Champions League</td>\n      <td>male</td>\n      <td>False</td>\n      <td>False</td>\n      <td>2009/2010</td>\n      <td>2022-11-15T17:26:10.871011</td>\n      <td>2021-06-13T16:17:31.694</td>\n      <td>None</td>\n      <td>2022-11-15T17:26:10.871011</td>\n    </tr>\n    <tr>\n      <th>11</th>\n      <td>16</td>\n      <td>41</td>\n      <td>Europe</td>\n      <td>Champions League</td>\n      <td>male</td>\n      <td>False</td>\n      <td>False</td>\n      <td>2008/2009</td>\n      <td>2021-11-07T14:20:01.699993</td>\n      <td>2021-06-13T16:17:31.694</td>\n      <td>None</td>\n      <td>2021-11-07T14:20:01.699993</td>\n    </tr>\n  </tbody>\n</table>\n</div>"
     },
     "execution_count": 2,
     "metadata": {},
     "output_type": "execute_result"
    }
   ],
   "source": [
    "from statsbombpy import sb\n",
    "import numpy as np\n",
    "import pandas as pd\n",
    "\n",
    "# only rows with competition name champions league\n",
    "sb.competitions().loc[sb.competitions()['competition_name'] == 'Champions League'].head(11)"
   ]
  },
  {
   "cell_type": "code",
   "execution_count": 5,
   "outputs": [
    {
     "name": "stderr",
     "output_type": "stream",
     "text": [
      "/opt/homebrew/lib/python3.11/site-packages/statsbombpy/api_client.py:21: NoAuthWarning: credentials were not supplied. open data access only\n",
      "  warnings.warn(\n"
     ]
    },
    {
     "data": {
      "text/plain": "   match_id  match_date      kick_off                competition     season  \\\n0     18242  2015-06-06  20:45:00.000  Europe - Champions League  2014/2015   \n\n  home_team  away_team  home_score  away_score match_status  ...  \\\n0  Juventus  Barcelona           1           3    available  ...   \n\n          last_updated_360 match_week competition_stage  \\\n0  2021-06-13T16:17:31.694          1             Final   \n\n                 stadium       referee         home_managers  \\\n0  Olympiastadion Berlin  Cüneyt Çakιr  Massimiliano Allegri   \n\n                  away_managers data_version shot_fidelity_version  \\\n0  Luis Enrique Martínez García        1.0.3                  None   \n\n  xy_fidelity_version  \n0                None  \n\n[1 rows x 22 columns]",
      "text/html": "<div>\n<style scoped>\n    .dataframe tbody tr th:only-of-type {\n        vertical-align: middle;\n    }\n\n    .dataframe tbody tr th {\n        vertical-align: top;\n    }\n\n    .dataframe thead th {\n        text-align: right;\n    }\n</style>\n<table border=\"1\" class=\"dataframe\">\n  <thead>\n    <tr style=\"text-align: right;\">\n      <th></th>\n      <th>match_id</th>\n      <th>match_date</th>\n      <th>kick_off</th>\n      <th>competition</th>\n      <th>season</th>\n      <th>home_team</th>\n      <th>away_team</th>\n      <th>home_score</th>\n      <th>away_score</th>\n      <th>match_status</th>\n      <th>...</th>\n      <th>last_updated_360</th>\n      <th>match_week</th>\n      <th>competition_stage</th>\n      <th>stadium</th>\n      <th>referee</th>\n      <th>home_managers</th>\n      <th>away_managers</th>\n      <th>data_version</th>\n      <th>shot_fidelity_version</th>\n      <th>xy_fidelity_version</th>\n    </tr>\n  </thead>\n  <tbody>\n    <tr>\n      <th>0</th>\n      <td>18242</td>\n      <td>2015-06-06</td>\n      <td>20:45:00.000</td>\n      <td>Europe - Champions League</td>\n      <td>2014/2015</td>\n      <td>Juventus</td>\n      <td>Barcelona</td>\n      <td>1</td>\n      <td>3</td>\n      <td>available</td>\n      <td>...</td>\n      <td>2021-06-13T16:17:31.694</td>\n      <td>1</td>\n      <td>Final</td>\n      <td>Olympiastadion Berlin</td>\n      <td>Cüneyt Çakιr</td>\n      <td>Massimiliano Allegri</td>\n      <td>Luis Enrique Martínez García</td>\n      <td>1.0.3</td>\n      <td>None</td>\n      <td>None</td>\n    </tr>\n  </tbody>\n</table>\n<p>1 rows × 22 columns</p>\n</div>"
     },
     "execution_count": 5,
     "metadata": {},
     "output_type": "execute_result"
    }
   ],
   "source": [
    "sb.matches(competition_id=16,season_id=26)"
   ],
   "metadata": {
    "collapsed": false,
    "ExecuteTime": {
     "end_time": "2023-12-03T16:29:42.523681Z",
     "start_time": "2023-12-03T16:29:42.501095Z"
    }
   },
   "id": "1554da772a4ae1c4"
  },
  {
   "cell_type": "code",
   "execution_count": 3,
   "outputs": [
    {
     "name": "stderr",
     "output_type": "stream",
     "text": [
      "/opt/homebrew/lib/python3.11/site-packages/statsbombpy/api_client.py:21: NoAuthWarning: credentials were not supplied. open data access only\n",
      "  warnings.warn(\n"
     ]
    },
    {
     "data": {
      "text/plain": "     ball_receipt_outcome ball_recovery_recovery_failure carry_end_location  \\\n0                     NaN                            NaN                NaN   \n1                     NaN                            NaN                NaN   \n2                     NaN                            NaN                NaN   \n3                     NaN                            NaN                NaN   \n4                     NaN                            NaN                NaN   \n...                   ...                            ...                ...   \n3428                  NaN                            NaN                NaN   \n3429                  NaN                            NaN                NaN   \n3430                  NaN                            NaN                NaN   \n3431                  NaN                            NaN                NaN   \n3432                  NaN                            NaN                NaN   \n\n     clearance_aerial_won counterpress dribble_nutmeg dribble_outcome  \\\n0                     NaN          NaN            NaN             NaN   \n1                     NaN          NaN            NaN             NaN   \n2                     NaN          NaN            NaN             NaN   \n3                     NaN          NaN            NaN             NaN   \n4                     NaN          NaN            NaN             NaN   \n...                   ...          ...            ...             ...   \n3428                  NaN          NaN            NaN             NaN   \n3429                  NaN          NaN            NaN             NaN   \n3430                  NaN          NaN            NaN             NaN   \n3431                  NaN          NaN            NaN             NaN   \n3432                  NaN          NaN            NaN             NaN   \n\n     dribble_overrun duel_outcome duel_type  ...  shot_technique shot_type  \\\n0                NaN          NaN       NaN  ...             NaN       NaN   \n1                NaN          NaN       NaN  ...             NaN       NaN   \n2                NaN          NaN       NaN  ...             NaN       NaN   \n3                NaN          NaN       NaN  ...             NaN       NaN   \n4                NaN          NaN       NaN  ...             NaN       NaN   \n...              ...          ...       ...  ...             ...       ...   \n3428             NaN          NaN       NaN  ...             NaN       NaN   \n3429             NaN          NaN       NaN  ...             NaN       NaN   \n3430             NaN          NaN       NaN  ...             NaN       NaN   \n3431             NaN          NaN       NaN  ...             NaN       NaN   \n3432             NaN          NaN       NaN  ...             NaN       NaN   \n\n     substitution_outcome substitution_replacement  \\\n0                     NaN                      NaN   \n1                     NaN                      NaN   \n2                     NaN                      NaN   \n3                     NaN                      NaN   \n4                     NaN                      NaN   \n...                   ...                      ...   \n3428                  NaN                      NaN   \n3429                  NaN                      NaN   \n3430                  NaN                      NaN   \n3431                  NaN                      NaN   \n3432                  NaN                      NaN   \n\n                                                tactics       team team_id  \\\n0     {'formation': 41212, 'lineup': [{'player': {'i...   Juventus     224   \n1     {'formation': 41221, 'lineup': [{'player': {'i...  Barcelona     217   \n2                                                   NaN   Juventus     224   \n3                                                   NaN  Barcelona     217   \n4                                                   NaN   Juventus     224   \n...                                                 ...        ...     ...   \n3428                                                NaN  Barcelona     217   \n3429                                                NaN   Juventus     224   \n3430                                                NaN  Barcelona     217   \n3431  {'formation': 312112, 'lineup': [{'player': {'...   Juventus     224   \n3432  {'formation': 41221, 'lineup': [{'player': {'i...  Barcelona     217   \n\n         timestamp               type under_pressure  \n0     00:00:00.000        Starting XI            NaN  \n1     00:00:00.000        Starting XI            NaN  \n2     00:00:00.000         Half Start            NaN  \n3     00:00:00.000         Half Start            NaN  \n4     00:00:00.000         Half Start            NaN  \n...            ...                ...            ...  \n3428  00:50:57.838    Injury Stoppage            NaN  \n3429  00:41:38.343  Referee Ball-Drop            NaN  \n3430  00:43:29.898  Referee Ball-Drop            NaN  \n3431  00:43:28.299     Tactical Shift            NaN  \n3432  00:46:15.562     Tactical Shift            NaN  \n\n[3433 rows x 77 columns]",
      "text/html": "<div>\n<style scoped>\n    .dataframe tbody tr th:only-of-type {\n        vertical-align: middle;\n    }\n\n    .dataframe tbody tr th {\n        vertical-align: top;\n    }\n\n    .dataframe thead th {\n        text-align: right;\n    }\n</style>\n<table border=\"1\" class=\"dataframe\">\n  <thead>\n    <tr style=\"text-align: right;\">\n      <th></th>\n      <th>ball_receipt_outcome</th>\n      <th>ball_recovery_recovery_failure</th>\n      <th>carry_end_location</th>\n      <th>clearance_aerial_won</th>\n      <th>counterpress</th>\n      <th>dribble_nutmeg</th>\n      <th>dribble_outcome</th>\n      <th>dribble_overrun</th>\n      <th>duel_outcome</th>\n      <th>duel_type</th>\n      <th>...</th>\n      <th>shot_technique</th>\n      <th>shot_type</th>\n      <th>substitution_outcome</th>\n      <th>substitution_replacement</th>\n      <th>tactics</th>\n      <th>team</th>\n      <th>team_id</th>\n      <th>timestamp</th>\n      <th>type</th>\n      <th>under_pressure</th>\n    </tr>\n  </thead>\n  <tbody>\n    <tr>\n      <th>0</th>\n      <td>NaN</td>\n      <td>NaN</td>\n      <td>NaN</td>\n      <td>NaN</td>\n      <td>NaN</td>\n      <td>NaN</td>\n      <td>NaN</td>\n      <td>NaN</td>\n      <td>NaN</td>\n      <td>NaN</td>\n      <td>...</td>\n      <td>NaN</td>\n      <td>NaN</td>\n      <td>NaN</td>\n      <td>NaN</td>\n      <td>{'formation': 41212, 'lineup': [{'player': {'i...</td>\n      <td>Juventus</td>\n      <td>224</td>\n      <td>00:00:00.000</td>\n      <td>Starting XI</td>\n      <td>NaN</td>\n    </tr>\n    <tr>\n      <th>1</th>\n      <td>NaN</td>\n      <td>NaN</td>\n      <td>NaN</td>\n      <td>NaN</td>\n      <td>NaN</td>\n      <td>NaN</td>\n      <td>NaN</td>\n      <td>NaN</td>\n      <td>NaN</td>\n      <td>NaN</td>\n      <td>...</td>\n      <td>NaN</td>\n      <td>NaN</td>\n      <td>NaN</td>\n      <td>NaN</td>\n      <td>{'formation': 41221, 'lineup': [{'player': {'i...</td>\n      <td>Barcelona</td>\n      <td>217</td>\n      <td>00:00:00.000</td>\n      <td>Starting XI</td>\n      <td>NaN</td>\n    </tr>\n    <tr>\n      <th>2</th>\n      <td>NaN</td>\n      <td>NaN</td>\n      <td>NaN</td>\n      <td>NaN</td>\n      <td>NaN</td>\n      <td>NaN</td>\n      <td>NaN</td>\n      <td>NaN</td>\n      <td>NaN</td>\n      <td>NaN</td>\n      <td>...</td>\n      <td>NaN</td>\n      <td>NaN</td>\n      <td>NaN</td>\n      <td>NaN</td>\n      <td>NaN</td>\n      <td>Juventus</td>\n      <td>224</td>\n      <td>00:00:00.000</td>\n      <td>Half Start</td>\n      <td>NaN</td>\n    </tr>\n    <tr>\n      <th>3</th>\n      <td>NaN</td>\n      <td>NaN</td>\n      <td>NaN</td>\n      <td>NaN</td>\n      <td>NaN</td>\n      <td>NaN</td>\n      <td>NaN</td>\n      <td>NaN</td>\n      <td>NaN</td>\n      <td>NaN</td>\n      <td>...</td>\n      <td>NaN</td>\n      <td>NaN</td>\n      <td>NaN</td>\n      <td>NaN</td>\n      <td>NaN</td>\n      <td>Barcelona</td>\n      <td>217</td>\n      <td>00:00:00.000</td>\n      <td>Half Start</td>\n      <td>NaN</td>\n    </tr>\n    <tr>\n      <th>4</th>\n      <td>NaN</td>\n      <td>NaN</td>\n      <td>NaN</td>\n      <td>NaN</td>\n      <td>NaN</td>\n      <td>NaN</td>\n      <td>NaN</td>\n      <td>NaN</td>\n      <td>NaN</td>\n      <td>NaN</td>\n      <td>...</td>\n      <td>NaN</td>\n      <td>NaN</td>\n      <td>NaN</td>\n      <td>NaN</td>\n      <td>NaN</td>\n      <td>Juventus</td>\n      <td>224</td>\n      <td>00:00:00.000</td>\n      <td>Half Start</td>\n      <td>NaN</td>\n    </tr>\n    <tr>\n      <th>...</th>\n      <td>...</td>\n      <td>...</td>\n      <td>...</td>\n      <td>...</td>\n      <td>...</td>\n      <td>...</td>\n      <td>...</td>\n      <td>...</td>\n      <td>...</td>\n      <td>...</td>\n      <td>...</td>\n      <td>...</td>\n      <td>...</td>\n      <td>...</td>\n      <td>...</td>\n      <td>...</td>\n      <td>...</td>\n      <td>...</td>\n      <td>...</td>\n      <td>...</td>\n      <td>...</td>\n    </tr>\n    <tr>\n      <th>3428</th>\n      <td>NaN</td>\n      <td>NaN</td>\n      <td>NaN</td>\n      <td>NaN</td>\n      <td>NaN</td>\n      <td>NaN</td>\n      <td>NaN</td>\n      <td>NaN</td>\n      <td>NaN</td>\n      <td>NaN</td>\n      <td>...</td>\n      <td>NaN</td>\n      <td>NaN</td>\n      <td>NaN</td>\n      <td>NaN</td>\n      <td>NaN</td>\n      <td>Barcelona</td>\n      <td>217</td>\n      <td>00:50:57.838</td>\n      <td>Injury Stoppage</td>\n      <td>NaN</td>\n    </tr>\n    <tr>\n      <th>3429</th>\n      <td>NaN</td>\n      <td>NaN</td>\n      <td>NaN</td>\n      <td>NaN</td>\n      <td>NaN</td>\n      <td>NaN</td>\n      <td>NaN</td>\n      <td>NaN</td>\n      <td>NaN</td>\n      <td>NaN</td>\n      <td>...</td>\n      <td>NaN</td>\n      <td>NaN</td>\n      <td>NaN</td>\n      <td>NaN</td>\n      <td>NaN</td>\n      <td>Juventus</td>\n      <td>224</td>\n      <td>00:41:38.343</td>\n      <td>Referee Ball-Drop</td>\n      <td>NaN</td>\n    </tr>\n    <tr>\n      <th>3430</th>\n      <td>NaN</td>\n      <td>NaN</td>\n      <td>NaN</td>\n      <td>NaN</td>\n      <td>NaN</td>\n      <td>NaN</td>\n      <td>NaN</td>\n      <td>NaN</td>\n      <td>NaN</td>\n      <td>NaN</td>\n      <td>...</td>\n      <td>NaN</td>\n      <td>NaN</td>\n      <td>NaN</td>\n      <td>NaN</td>\n      <td>NaN</td>\n      <td>Barcelona</td>\n      <td>217</td>\n      <td>00:43:29.898</td>\n      <td>Referee Ball-Drop</td>\n      <td>NaN</td>\n    </tr>\n    <tr>\n      <th>3431</th>\n      <td>NaN</td>\n      <td>NaN</td>\n      <td>NaN</td>\n      <td>NaN</td>\n      <td>NaN</td>\n      <td>NaN</td>\n      <td>NaN</td>\n      <td>NaN</td>\n      <td>NaN</td>\n      <td>NaN</td>\n      <td>...</td>\n      <td>NaN</td>\n      <td>NaN</td>\n      <td>NaN</td>\n      <td>NaN</td>\n      <td>{'formation': 312112, 'lineup': [{'player': {'...</td>\n      <td>Juventus</td>\n      <td>224</td>\n      <td>00:43:28.299</td>\n      <td>Tactical Shift</td>\n      <td>NaN</td>\n    </tr>\n    <tr>\n      <th>3432</th>\n      <td>NaN</td>\n      <td>NaN</td>\n      <td>NaN</td>\n      <td>NaN</td>\n      <td>NaN</td>\n      <td>NaN</td>\n      <td>NaN</td>\n      <td>NaN</td>\n      <td>NaN</td>\n      <td>NaN</td>\n      <td>...</td>\n      <td>NaN</td>\n      <td>NaN</td>\n      <td>NaN</td>\n      <td>NaN</td>\n      <td>{'formation': 41221, 'lineup': [{'player': {'i...</td>\n      <td>Barcelona</td>\n      <td>217</td>\n      <td>00:46:15.562</td>\n      <td>Tactical Shift</td>\n      <td>NaN</td>\n    </tr>\n  </tbody>\n</table>\n<p>3433 rows × 77 columns</p>\n</div>"
     },
     "execution_count": 3,
     "metadata": {},
     "output_type": "execute_result"
    }
   ],
   "source": [
    "match_id=18242\n",
    "sb.events(match_id=match_id)"
   ],
   "metadata": {
    "collapsed": false,
    "ExecuteTime": {
     "end_time": "2023-12-04T15:31:40.996768Z",
     "start_time": "2023-12-04T15:31:40.221384Z"
    }
   },
   "id": "afdfacfb21fc712c"
  },
  {
   "cell_type": "code",
   "execution_count": 7,
   "outputs": [
    {
     "name": "stderr",
     "output_type": "stream",
     "text": [
      "/opt/homebrew/lib/python3.11/site-packages/statsbombpy/api_client.py:21: NoAuthWarning: credentials were not supplied. open data access only\n",
      "  warnings.warn(\n"
     ]
    },
    {
     "data": {
      "text/plain": "{'Juventus':     player_id                  player_name    player_nickname  jersey_number  \\\n 0        3477   Álvaro Borja Morata Martín      Álvaro Morata              9   \n 1        3486     Fernando Llorente Torres  Fernando Llorente             14   \n 2        3579  Roberto Maximiliano Pereyra    Roberto Pereyra             37   \n 3        3843        Angelo Obinze Ogbonna     Angelo Ogbonna              5   \n 4        5541         Stephan Lichtsteiner               None             26   \n 5        6943              Andrea Barzagli               None             15   \n 6        6949             Gianluigi Buffon               None              1   \n 7        7013              Stefano Sturaro               None             27   \n 8        7173             Leonardo Bonucci               None             19   \n 9        7952                Simone Padoin               None             20   \n 10       8206    Arturo Erasmo Vidal Pardo       Arturo Vidal             23   \n 11       8217               Kingsley Coman               None             11   \n 12       8294            Claudio Marchisio               None              8   \n 13      19849                 Andrea Pirlo               None             21   \n 14      20004                   Paul Pogba               None              6   \n 15      20008                 Patrice Evra               None             33   \n 16      20666         Carlos Alberto Tevez       Carlos Tevez             10   \n 17      26208                Marco Storari               None             30   \n \n         country                                              cards  \\\n 0         Spain                                                 []   \n 1         Spain                                                 []   \n 2     Argentina                                                 []   \n 3         Italy                                                 []   \n 4   Switzerland                                                 []   \n 5         Italy                                                 []   \n 6         Italy                                                 []   \n 7         Italy                                                 []   \n 8         Italy                                                 []   \n 9         Italy                                                 []   \n 10        Chile  [{'time': '10:00', 'card_type': 'Yellow Card',...   \n 11       France                                                 []   \n 12        Italy                                                 []   \n 13        Italy                                                 []   \n 14       France  [{'time': '40:27', 'card_type': 'Yellow Card',...   \n 15       France                                                 []   \n 16    Argentina                                                 []   \n 17        Italy                                                 []   \n \n                                             positions  \n 0   [{'position_id': 24, 'position': 'Left Center ...  \n 1   [{'position_id': 24, 'position': 'Left Center ...  \n 2   [{'position_id': 25, 'position': 'Secondary St...  \n 3                                                  []  \n 4   [{'position_id': 2, 'position': 'Right Back', ...  \n 5   [{'position_id': 3, 'position': 'Right Center ...  \n 6   [{'position_id': 1, 'position': 'Goalkeeper', ...  \n 7                                                  []  \n 8   [{'position_id': 5, 'position': 'Left Center B...  \n 9                                                  []  \n 10  [{'position_id': 25, 'position': 'Secondary St...  \n 11  [{'position_id': 6, 'position': 'Left Back', '...  \n 12  [{'position_id': 13, 'position': 'Right Center...  \n 13  [{'position_id': 10, 'position': 'Center Defen...  \n 14  [{'position_id': 15, 'position': 'Left Center ...  \n 15  [{'position_id': 6, 'position': 'Left Back', '...  \n 16  [{'position_id': 22, 'position': 'Right Center...  \n 17                                                 []  ,\n 'Barcelona':     player_id                      player_name        player_nickname  \\\n 0        3958  Pedro Eliezer Rodríguez Ledesma                  Pedro   \n 1        4320    Neymar da Silva Santos Junior                 Neymar   \n 2        4324            Daniel Alves da Silva             Dani Alves   \n 3        4691       Claudio Andrés Bravo Muñoz          Claudio Bravo   \n 4        5203         Sergio Busquets i Burgos        Sergio Busquets   \n 5        5211                 Jordi Alba Ramos             Jordi Alba   \n 6        5213            Gerard Piqué Bernabéu           Gerard Piqué   \n 7        5216             Andrés Iniesta Luján         Andrés Iniesta   \n 8        5246         Luis Alberto Suárez Díaz            Luis Suárez   \n 9        5470                     Ivan Rakitić                   None   \n 10       5503   Lionel Andrés Messi Cuccittini           Lionel Messi   \n 11       5506      Javier Alejandro Mascherano      Javier Mascherano   \n 12       6998   Rafael Alcântara do Nascimento                Rafinha   \n 13       7068              Marc Bartra Aregall            Marc Bartra   \n 14      10609                   Jérémy Mathieu                   None   \n 15      20055            Marc-André ter Stegen  Marc-André ter Stegen   \n 16      20131           Xavier Hernández Creus                   Xavi   \n 17      22102            Adriano Correia Claro                Adriano   \n \n     jersey_number    country  \\\n 0               7      Spain   \n 1              11     Brazil   \n 2              22     Brazil   \n 3              13      Chile   \n 4               5      Spain   \n 5              18      Spain   \n 6               3      Spain   \n 7               8      Spain   \n 8               9    Uruguay   \n 9               4    Croatia   \n 10             10  Argentina   \n 11             14  Argentina   \n 12             12     Brazil   \n 13             15      Spain   \n 14             24     France   \n 15              1    Germany   \n 16              6      Spain   \n 17             21     Brazil   \n \n                                                 cards  \\\n 0                                                  []   \n 1                                                  []   \n 2                                                  []   \n 3                                                  []   \n 4                                                  []   \n 5                                                  []   \n 6                                                  []   \n 7                                                  []   \n 8   [{'time': '69:35', 'card_type': 'Yellow Card',...   \n 9                                                  []   \n 10                                                 []   \n 11                                                 []   \n 12                                                 []   \n 13                                                 []   \n 14                                                 []   \n 15                                                 []   \n 16                                                 []   \n 17                                                 []   \n \n                                             positions  \n 0   [{'position_id': 23, 'position': 'Center Forwa...  \n 1   [{'position_id': 21, 'position': 'Left Wing', ...  \n 2   [{'position_id': 2, 'position': 'Right Back', ...  \n 3                                                  []  \n 4   [{'position_id': 10, 'position': 'Center Defen...  \n 5   [{'position_id': 6, 'position': 'Left Back', '...  \n 6   [{'position_id': 3, 'position': 'Right Center ...  \n 7   [{'position_id': 15, 'position': 'Left Center ...  \n 8   [{'position_id': 23, 'position': 'Center Forwa...  \n 9   [{'position_id': 13, 'position': 'Right Center...  \n 10  [{'position_id': 17, 'position': 'Right Wing',...  \n 11  [{'position_id': 5, 'position': 'Left Center B...  \n 12                                                 []  \n 13                                                 []  \n 14  [{'position_id': 13, 'position': 'Right Center...  \n 15  [{'position_id': 1, 'position': 'Goalkeeper', ...  \n 16  [{'position_id': 15, 'position': 'Left Center ...  \n 17                                                 []  }"
     },
     "execution_count": 7,
     "metadata": {},
     "output_type": "execute_result"
    }
   ],
   "source": [
    "sb.lineups(match_id=match_id)"
   ],
   "metadata": {
    "collapsed": false,
    "ExecuteTime": {
     "end_time": "2023-11-29T13:50:29.542742Z",
     "start_time": "2023-11-29T13:50:29.253243Z"
    }
   },
   "id": "e04ea8a3b9e63069"
  },
  {
   "cell_type": "code",
   "execution_count": 8,
   "outputs": [
    {
     "name": "stderr",
     "output_type": "stream",
     "text": [
      "/opt/homebrew/lib/python3.11/site-packages/statsbombpy/api_client.py:21: NoAuthWarning: credentials were not supplied. open data access only\n",
      "  warnings.warn(\n"
     ]
    },
    {
     "data": {
      "text/plain": "   match_id  match_date      kick_off                competition     season  \\\n0     18245  2018-05-26  20:45:00.000  Europe - Champions League  2017/2018   \n\n     home_team  away_team  home_score  away_score match_status  ...  \\\n0  Real Madrid  Liverpool           3           1    available  ...   \n\n          last_updated_360 match_week competition_stage          stadium  \\\n0  2021-06-13T16:17:31.694          7             Final  NSK Olimpiyskyi   \n\n         referee    home_managers away_managers data_version  \\\n0  Milorad Mažić  Zinédine Zidane  Jürgen Klopp        1.1.0   \n\n  shot_fidelity_version xy_fidelity_version  \n0                     2                   2  \n\n[1 rows x 22 columns]",
      "text/html": "<div>\n<style scoped>\n    .dataframe tbody tr th:only-of-type {\n        vertical-align: middle;\n    }\n\n    .dataframe tbody tr th {\n        vertical-align: top;\n    }\n\n    .dataframe thead th {\n        text-align: right;\n    }\n</style>\n<table border=\"1\" class=\"dataframe\">\n  <thead>\n    <tr style=\"text-align: right;\">\n      <th></th>\n      <th>match_id</th>\n      <th>match_date</th>\n      <th>kick_off</th>\n      <th>competition</th>\n      <th>season</th>\n      <th>home_team</th>\n      <th>away_team</th>\n      <th>home_score</th>\n      <th>away_score</th>\n      <th>match_status</th>\n      <th>...</th>\n      <th>last_updated_360</th>\n      <th>match_week</th>\n      <th>competition_stage</th>\n      <th>stadium</th>\n      <th>referee</th>\n      <th>home_managers</th>\n      <th>away_managers</th>\n      <th>data_version</th>\n      <th>shot_fidelity_version</th>\n      <th>xy_fidelity_version</th>\n    </tr>\n  </thead>\n  <tbody>\n    <tr>\n      <th>0</th>\n      <td>18245</td>\n      <td>2018-05-26</td>\n      <td>20:45:00.000</td>\n      <td>Europe - Champions League</td>\n      <td>2017/2018</td>\n      <td>Real Madrid</td>\n      <td>Liverpool</td>\n      <td>3</td>\n      <td>1</td>\n      <td>available</td>\n      <td>...</td>\n      <td>2021-06-13T16:17:31.694</td>\n      <td>7</td>\n      <td>Final</td>\n      <td>NSK Olimpiyskyi</td>\n      <td>Milorad Mažić</td>\n      <td>Zinédine Zidane</td>\n      <td>Jürgen Klopp</td>\n      <td>1.1.0</td>\n      <td>2</td>\n      <td>2</td>\n    </tr>\n  </tbody>\n</table>\n<p>1 rows × 22 columns</p>\n</div>"
     },
     "execution_count": 8,
     "metadata": {},
     "output_type": "execute_result"
    }
   ],
   "source": [
    "sb.matches(competition_id=16, season_id=1)"
   ],
   "metadata": {
    "collapsed": false,
    "ExecuteTime": {
     "end_time": "2023-11-29T13:50:30.539544Z",
     "start_time": "2023-11-29T13:50:30.243240Z"
    }
   },
   "id": "fa174018406ac47e"
  },
  {
   "cell_type": "code",
   "execution_count": 9,
   "outputs": [
    {
     "name": "stderr",
     "output_type": "stream",
     "text": [
      "/opt/homebrew/lib/python3.11/site-packages/statsbombpy/api_client.py:21: NoAuthWarning: credentials were not supplied. open data access only\n",
      "  warnings.warn(\n"
     ]
    },
    {
     "data": {
      "text/plain": "{'Liverpool':     player_id                          player_name   player_nickname  \\\n 0        3471                         Dejan Lovren              None   \n 1        3473                  James Philip Milner      James Milner   \n 2        3493                             Emre Can              None   \n 3        3515                 Alberto Moreno Pérez    Alberto Moreno   \n 4        3531                        Mohamed Salah              None   \n 5        3532               Jordan Brian Henderson  Jordan Henderson   \n 6        3535  Roberto Firmino Barbosa de Oliveira   Roberto Firmino   \n 7        3539                       Simon Mignolet              None   \n 8        3567                  Georginio Wijnaldum              None   \n 9        3614                      Dominic Solanke              None   \n 10       3629                           Sadio Mané              None   \n 11       3630                         Loris Karius              None   \n 12       3655                     Andrew Robertson              None   \n 13       3664               Trent Alexander-Arnold              None   \n 14       3669                      Virgil van Dijk              None   \n 15       4090                   Adam David Lallana      Adam Lallana   \n 16       4174                        Ragnar Klavan              None   \n 17       4590                Nathaniel Edwin Clyne   Nathaniel Clyne   \n \n     jersey_number      country  \\\n 0               6      Croatia   \n 1               7      England   \n 2              23      Germany   \n 3              18        Spain   \n 4              11        Egypt   \n 5              14      England   \n 6               9       Brazil   \n 7              22      Belgium   \n 8               5  Netherlands   \n 9              29      England   \n 10             19      Senegal   \n 11              1      Germany   \n 12             26     Scotland   \n 13             66      England   \n 14              4  Netherlands   \n 15             20      England   \n 16             17      Estonia   \n 17              2      England   \n \n                                                 cards  \\\n 0                                                  []   \n 1                                                  []   \n 2                                                  []   \n 3                                                  []   \n 4                                                  []   \n 5                                                  []   \n 6                                                  []   \n 7                                                  []   \n 8                                                  []   \n 9                                                  []   \n 10  [{'time': '81:43', 'card_type': 'Yellow Card',...   \n 11                                                 []   \n 12                                                 []   \n 13                                                 []   \n 14                                                 []   \n 15                                                 []   \n 16                                                 []   \n 17                                                 []   \n \n                                             positions  \n 0   [{'position_id': 3, 'position': 'Right Center ...  \n 1   [{'position_id': 15, 'position': 'Left Center ...  \n 2   [{'position_id': 15, 'position': 'Left Center ...  \n 3                                                  []  \n 4   [{'position_id': 17, 'position': 'Right Wing',...  \n 5   [{'position_id': 10, 'position': 'Center Defen...  \n 6   [{'position_id': 23, 'position': 'Center Forwa...  \n 7                                                  []  \n 8   [{'position_id': 13, 'position': 'Right Center...  \n 9                                                  []  \n 10  [{'position_id': 21, 'position': 'Left Wing', ...  \n 11  [{'position_id': 1, 'position': 'Goalkeeper', ...  \n 12  [{'position_id': 6, 'position': 'Left Back', '...  \n 13  [{'position_id': 2, 'position': 'Right Back', ...  \n 14  [{'position_id': 5, 'position': 'Left Center B...  \n 15  [{'position_id': 17, 'position': 'Right Wing',...  \n 16                                                 []  \n 17                                                 []  ,\n 'Real Madrid':     player_id                          player_name    player_nickname  \\\n 0        4926       Francisco Román Alarcón Suárez               Isco   \n 1        5200               Lucas Vázquez Iglesias      Lucas Vázquez   \n 2        5201                  Sergio Ramos García       Sergio Ramos   \n 3        5202      José Ignacio Fernández Iglesias              Nacho   \n 4        5207  Cristiano Ronaldo dos Santos Aveiro  Cristiano Ronaldo   \n 5        5456                        Mateo Kovačić               None   \n 6        5463                          Luka Modrić               None   \n 7        5485                       Raphaël Varane               None   \n 8        5539             Carlos Henrique Casimiro           Casemiro   \n 9        5552       Marcelo Vieira da Silva Júnior            Marcelo   \n 10       5574                           Toni Kroos               None   \n 11       5597                  Keylor Navas Gamboa       Keylor Navas   \n 12       5719              Marco Asensio Willemsen               None   \n 13       5721                Daniel Carvajal Ramos    Daniel Carvajal   \n 14       6399                    Gareth Frank Bale        Gareth Bale   \n 15       6704      Theo Bernard François Hernández     Theo Hernández   \n 16       6706             Francisco Casilla Cortés       Kiko Casilla   \n 17      19677                        Karim Benzema               None   \n \n     jersey_number     country cards  \\\n 0              22       Spain    []   \n 1              17       Spain    []   \n 2               4       Spain    []   \n 3               6       Spain    []   \n 4               7    Portugal    []   \n 5              23     Croatia    []   \n 6              10     Croatia    []   \n 7               5      France    []   \n 8              14      Brazil    []   \n 9              12      Brazil    []   \n 10              8     Germany    []   \n 11              1  Costa Rica    []   \n 12             20       Spain    []   \n 13              2       Spain    []   \n 14             11       Wales    []   \n 15             15      France    []   \n 16             13       Spain    []   \n 17              9      France    []   \n \n                                             positions  \n 0   [{'position_id': 19, 'position': 'Center Attac...  \n 1                                                  []  \n 2   [{'position_id': 5, 'position': 'Left Center B...  \n 3   [{'position_id': 2, 'position': 'Right Back', ...  \n 4   [{'position_id': 24, 'position': 'Left Center ...  \n 5                                                  []  \n 6   [{'position_id': 13, 'position': 'Right Center...  \n 7   [{'position_id': 3, 'position': 'Right Center ...  \n 8   [{'position_id': 10, 'position': 'Center Defen...  \n 9   [{'position_id': 6, 'position': 'Left Back', '...  \n 10  [{'position_id': 15, 'position': 'Left Center ...  \n 11  [{'position_id': 1, 'position': 'Goalkeeper', ...  \n 12  [{'position_id': 23, 'position': 'Center Forwa...  \n 13  [{'position_id': 2, 'position': 'Right Back', ...  \n 14  [{'position_id': 19, 'position': 'Center Attac...  \n 15                                                 []  \n 16                                                 []  \n 17  [{'position_id': 22, 'position': 'Right Center...  }"
     },
     "execution_count": 9,
     "metadata": {},
     "output_type": "execute_result"
    }
   ],
   "source": [
    "match_id=18245\n",
    "sb.lineups(match_id=match_id)"
   ],
   "metadata": {
    "collapsed": false,
    "ExecuteTime": {
     "end_time": "2023-11-29T13:50:32.636116Z",
     "start_time": "2023-11-29T13:50:32.320094Z"
    }
   },
   "id": "bad2f8bc45a83f6c"
  },
  {
   "cell_type": "code",
   "execution_count": 13,
   "outputs": [
    {
     "data": {
      "text/plain": "\u001B[2;36m[11/29/23 14:52:09]\u001B[0m\u001B[2;36m \u001B[0m\u001B[34mINFO    \u001B[0m Saving cached data to \u001B[35m/Users/fantasy2fry/soccerdata/data/\u001B[0m\u001B[95mFBref\u001B[0m           \u001B]8;id=459956;file:///opt/homebrew/lib/python3.11/site-packages/soccerdata/_common.py\u001B\\\u001B[2m_common.py\u001B[0m\u001B]8;;\u001B\\\u001B[2m:\u001B[0m\u001B]8;id=19840;file:///opt/homebrew/lib/python3.11/site-packages/soccerdata/_common.py#91\u001B\\\u001B[2m91\u001B[0m\u001B]8;;\u001B\\\n",
      "text/html": "<pre style=\"white-space:pre;overflow-x:auto;line-height:normal;font-family:Menlo,'DejaVu Sans Mono',consolas,'Courier New',monospace\"><span style=\"color: #7fbfbf; text-decoration-color: #7fbfbf\">[11/29/23 14:52:09] </span><span style=\"color: #000080; text-decoration-color: #000080\">INFO    </span> Saving cached data to <span style=\"color: #800080; text-decoration-color: #800080\">/Users/fantasy2fry/soccerdata/data/</span><span style=\"color: #ff00ff; text-decoration-color: #ff00ff\">FBref</span>           <a href=\"file:///opt/homebrew/lib/python3.11/site-packages/soccerdata/_common.py\" target=\"_blank\"><span style=\"color: #7f7f7f; text-decoration-color: #7f7f7f\">_common.py</span></a><span style=\"color: #7f7f7f; text-decoration-color: #7f7f7f\">:</span><a href=\"file:///opt/homebrew/lib/python3.11/site-packages/soccerdata/_common.py#91\" target=\"_blank\"><span style=\"color: #7f7f7f; text-decoration-color: #7f7f7f\">91</span></a>\n</pre>\n"
     },
     "metadata": {},
     "output_type": "display_data"
    }
   ],
   "source": [
    "import soccerdata as sd\n",
    "fbref=sd.FBref(seasons=\"22-23\",no_cache=True)\n",
    "df=fbref.read_leagues(split_up_big5=True)"
   ],
   "metadata": {
    "collapsed": false,
    "ExecuteTime": {
     "end_time": "2023-11-29T13:52:12.488693Z",
     "start_time": "2023-11-29T13:52:09.404739Z"
    }
   },
   "id": "a998efa6ae909c9"
  },
  {
   "cell_type": "code",
   "execution_count": 14,
   "outputs": [
    {
     "data": {
      "text/plain": "                      gender governing_body first_season last_season tier  \\\nleague                                                                      \nENG-Premier League         M           <NA>         8889        2324  1st   \nESP-La Liga                M           <NA>         8889        2324  1st   \nFRA-Ligue 1                M           <NA>         9596        2324  1st   \nGER-Bundesliga             M           <NA>         8889        2324  1st   \nINT-Women's World Cup      F           FIFA         9192        2324  1st   \nINT-World Cup              M           FIFA         3031        2223  1st   \nITA-Serie A                M           <NA>         8889        2324  1st   \n\n                                                                  url country  \nleague                                                                         \nENG-Premier League         /en/comps/9/history/Premier-League-Seasons     ENG  \nESP-La Liga                      /en/comps/12/history/La-Liga-Seasons     ESP  \nFRA-Ligue 1                      /en/comps/13/history/Ligue-1-Seasons     FRA  \nGER-Bundesliga                /en/comps/20/history/Bundesliga-Seasons     GER  \nINT-Women's World Cup  /en/comps/106/history/Womens-World-Cup-Seasons    <NA>  \nINT-World Cup                   /en/comps/1/history/World-Cup-Seasons    <NA>  \nITA-Serie A                      /en/comps/11/history/Serie-A-Seasons     ITA  ",
      "text/html": "<div>\n<style scoped>\n    .dataframe tbody tr th:only-of-type {\n        vertical-align: middle;\n    }\n\n    .dataframe tbody tr th {\n        vertical-align: top;\n    }\n\n    .dataframe thead th {\n        text-align: right;\n    }\n</style>\n<table border=\"1\" class=\"dataframe\">\n  <thead>\n    <tr style=\"text-align: right;\">\n      <th></th>\n      <th>gender</th>\n      <th>governing_body</th>\n      <th>first_season</th>\n      <th>last_season</th>\n      <th>tier</th>\n      <th>url</th>\n      <th>country</th>\n    </tr>\n    <tr>\n      <th>league</th>\n      <th></th>\n      <th></th>\n      <th></th>\n      <th></th>\n      <th></th>\n      <th></th>\n      <th></th>\n    </tr>\n  </thead>\n  <tbody>\n    <tr>\n      <th>ENG-Premier League</th>\n      <td>M</td>\n      <td>&lt;NA&gt;</td>\n      <td>8889</td>\n      <td>2324</td>\n      <td>1st</td>\n      <td>/en/comps/9/history/Premier-League-Seasons</td>\n      <td>ENG</td>\n    </tr>\n    <tr>\n      <th>ESP-La Liga</th>\n      <td>M</td>\n      <td>&lt;NA&gt;</td>\n      <td>8889</td>\n      <td>2324</td>\n      <td>1st</td>\n      <td>/en/comps/12/history/La-Liga-Seasons</td>\n      <td>ESP</td>\n    </tr>\n    <tr>\n      <th>FRA-Ligue 1</th>\n      <td>M</td>\n      <td>&lt;NA&gt;</td>\n      <td>9596</td>\n      <td>2324</td>\n      <td>1st</td>\n      <td>/en/comps/13/history/Ligue-1-Seasons</td>\n      <td>FRA</td>\n    </tr>\n    <tr>\n      <th>GER-Bundesliga</th>\n      <td>M</td>\n      <td>&lt;NA&gt;</td>\n      <td>8889</td>\n      <td>2324</td>\n      <td>1st</td>\n      <td>/en/comps/20/history/Bundesliga-Seasons</td>\n      <td>GER</td>\n    </tr>\n    <tr>\n      <th>INT-Women's World Cup</th>\n      <td>F</td>\n      <td>FIFA</td>\n      <td>9192</td>\n      <td>2324</td>\n      <td>1st</td>\n      <td>/en/comps/106/history/Womens-World-Cup-Seasons</td>\n      <td>&lt;NA&gt;</td>\n    </tr>\n    <tr>\n      <th>INT-World Cup</th>\n      <td>M</td>\n      <td>FIFA</td>\n      <td>3031</td>\n      <td>2223</td>\n      <td>1st</td>\n      <td>/en/comps/1/history/World-Cup-Seasons</td>\n      <td>&lt;NA&gt;</td>\n    </tr>\n    <tr>\n      <th>ITA-Serie A</th>\n      <td>M</td>\n      <td>&lt;NA&gt;</td>\n      <td>8889</td>\n      <td>2324</td>\n      <td>1st</td>\n      <td>/en/comps/11/history/Serie-A-Seasons</td>\n      <td>ITA</td>\n    </tr>\n  </tbody>\n</table>\n</div>"
     },
     "execution_count": 14,
     "metadata": {},
     "output_type": "execute_result"
    }
   ],
   "source": [
    "df"
   ],
   "metadata": {
    "collapsed": false,
    "ExecuteTime": {
     "end_time": "2023-11-29T13:52:13.220864Z",
     "start_time": "2023-11-29T13:52:13.215661Z"
    }
   },
   "id": "3fba8af50c12e8b3"
  },
  {
   "cell_type": "code",
   "execution_count": 15,
   "outputs": [
    {
     "data": {
      "text/plain": "['Big 5 European Leagues Combined',\n 'ENG-Premier League',\n 'ESP-La Liga',\n 'FRA-Ligue 1',\n 'GER-Bundesliga',\n \"INT-Women's World Cup\",\n 'INT-World Cup',\n 'ITA-Serie A']"
     },
     "execution_count": 15,
     "metadata": {},
     "output_type": "execute_result"
    }
   ],
   "source": [
    "fbref.available_leagues()"
   ],
   "metadata": {
    "collapsed": false,
    "ExecuteTime": {
     "end_time": "2023-11-29T13:52:14.608273Z",
     "start_time": "2023-11-29T13:52:14.602254Z"
    }
   },
   "id": "b83201957e67d362"
  },
  {
   "cell_type": "code",
   "execution_count": 16,
   "outputs": [
    {
     "name": "stderr",
     "output_type": "stream",
     "text": [
      "/opt/homebrew/lib/python3.11/site-packages/soccerdata/fbref.py:1169: UserWarning: Different columns found for [['INT-World Cup' '2223']] and [['ENG-Premier League' '2223']].\n",
      "\n",
      "The following columns are missing in [['INT-World Cup' '2223']]: (None, 'Club').\n",
      "\n",
      "The following columns are missing in [['ENG-Premier League' '2223']]: .\n",
      "\n",
      "The columns of the dataframe with the most columns will be used.\n",
      "  warnings.warn(\n",
      "/opt/homebrew/lib/python3.11/site-packages/soccerdata/fbref.py:1169: UserWarning: Different columns found for [['INT-World Cup' '2223']] and [['ENG-Premier League' '2223']].\n",
      "\n",
      "The following columns are missing in [['INT-World Cup' '2223']]: (None, 'Club').\n",
      "\n",
      "The following columns are missing in [['ENG-Premier League' '2223']]: .\n",
      "\n",
      "The columns of the dataframe with the most columns will be used.\n",
      "  warnings.warn(\n",
      "/opt/homebrew/lib/python3.11/site-packages/soccerdata/fbref.py:1169: UserWarning: Different columns found for [['INT-World Cup' '2223']] and [['ESP-La Liga' '2223']].\n",
      "\n",
      "The following columns are missing in [['INT-World Cup' '2223']]: (None, 'Club').\n",
      "\n",
      "The following columns are missing in [['ESP-La Liga' '2223']]: .\n",
      "\n",
      "The columns of the dataframe with the most columns will be used.\n",
      "  warnings.warn(\n",
      "/opt/homebrew/lib/python3.11/site-packages/soccerdata/fbref.py:1169: UserWarning: Different columns found for [['INT-World Cup' '2223']] and [['FRA-Ligue 1' '2223']].\n",
      "\n",
      "The following columns are missing in [['INT-World Cup' '2223']]: (None, 'Club').\n",
      "\n",
      "The following columns are missing in [['FRA-Ligue 1' '2223']]: .\n",
      "\n",
      "The columns of the dataframe with the most columns will be used.\n",
      "  warnings.warn(\n",
      "/opt/homebrew/lib/python3.11/site-packages/soccerdata/fbref.py:1169: UserWarning: Different columns found for [['INT-World Cup' '2223']] and [['GER-Bundesliga' '2223']].\n",
      "\n",
      "The following columns are missing in [['INT-World Cup' '2223']]: (None, 'Club').\n",
      "\n",
      "The following columns are missing in [['GER-Bundesliga' '2223']]: .\n",
      "\n",
      "The columns of the dataframe with the most columns will be used.\n",
      "  warnings.warn(\n",
      "/opt/homebrew/lib/python3.11/site-packages/soccerdata/fbref.py:1169: UserWarning: Different columns found for [['INT-World Cup' '2223']] and [['ITA-Serie A' '2223']].\n",
      "\n",
      "The following columns are missing in [['INT-World Cup' '2223']]: (None, 'Club').\n",
      "\n",
      "The following columns are missing in [['ITA-Serie A' '2223']]: .\n",
      "\n",
      "The columns of the dataframe with the most columns will be used.\n",
      "  warnings.warn(\n"
     ]
    }
   ],
   "source": [
    "df_playerdata=fbref.read_player_season_stats('standard')"
   ],
   "metadata": {
    "collapsed": false,
    "ExecuteTime": {
     "end_time": "2023-11-29T13:54:34.231848Z",
     "start_time": "2023-11-29T13:53:20.757991Z"
    }
   },
   "id": "90fbf3a9d1c366b3"
  },
  {
   "cell_type": "code",
   "execution_count": 1,
   "outputs": [],
   "source": [
    "#@title\n",
    "\n",
    "#standard(stats)\n",
    "stats = [\"player\",\"nationality\",\"position\",\"squad\",\"age\",\"birth_year\",\"games\",\"games_starts\",\"minutes\",\"goals\",\"assists\",\"pens_made\",\"pens_att\",\"cards_yellow\",\"cards_red\",\"goals_per90\",\"assists_per90\",\"goals_assists_per90\",\"goals_pens_per90\",\"goals_assists_pens_per90\",\"xg\",\"npxg\",\"xa\",\"xg_per90\",\"xa_per90\",\"xg_xa_per90\",\"npxg_per90\",\"npxg_xa_per90\"]\n",
    "stats3 = [\"players_used\",\"possession\",\"games\",\"games_starts\",\"minutes\",\"goals\",\"assists\",\"pens_made\",\"pens_att\",\"cards_yellow\",\"cards_red\",\"goals_per90\",\"assists_per90\",\"goals_assists_per90\",\"goals_pens_per90\",\"goals_assists_pens_per90\",\"xg\",\"npxg\",\"xa\",\"xg_per90\",\"xa_per90\",\"xg_xa_per90\",\"npxg_per90\",\"npxg_xa_per90\"]\n",
    "#goalkeeping(keepers)\n",
    "keepers = [\"player\",\"nationality\",\"position\",\"squad\",\"age\",\"birth_year\",\"games_gk\",\"games_starts_gk\",\"minutes_gk\",\"goals_against_gk\",\"goals_against_per90_gk\",\"shots_on_target_against\",\"saves\",\"save_pct\",\"wins_gk\",\"draws_gk\",\"losses_gk\",\"clean_sheets\",\"clean_sheets_pct\",\"pens_att_gk\",\"pens_allowed\",\"pens_saved\",\"pens_missed_gk\"]\n",
    "keepers3 = [\"players_used\",\"games_gk\",\"games_starts_gk\",\"minutes_gk\",\"goals_against_gk\",\"goals_against_per90_gk\",\"shots_on_target_against\",\"saves\",\"save_pct\",\"wins_gk\",\"draws_gk\",\"losses_gk\",\"clean_sheets\",\"clean_sheets_pct\",\"pens_att_gk\",\"pens_allowed\",\"pens_saved\",\"pens_missed_gk\"]\n",
    "#advance goalkeeping(keepersadv)\n",
    "keepersadv = [\"player\",\"nationality\",\"position\",\"squad\",\"age\",\"birth_year\",\"minutes_90s\",\"goals_against_gk\",\"pens_allowed\",\"free_kick_goals_against_gk\",\"corner_kick_goals_against_gk\",\"own_goals_against_gk\",\"psxg_gk\",\"psnpxg_per_shot_on_target_against\",\"psxg_net_gk\",\"psxg_net_per90_gk\",\"passes_completed_launched_gk\",\"passes_launched_gk\",\"passes_pct_launched_gk\",\"passes_gk\",\"passes_throws_gk\",\"pct_passes_launched_gk\",\"passes_length_avg_gk\",\"goal_kicks\",\"pct_goal_kicks_launched\",\"goal_kick_length_avg\",\"crosses_gk\",\"crosses_stopped_gk\",\"crosses_stopped_pct_gk\",\"def_actions_outside_pen_area_gk\",\"def_actions_outside_pen_area_per90_gk\",\"avg_distance_def_actions_gk\"]\n",
    "keepersadv2 = [\"minutes_90s\",\"goals_against_gk\",\"pens_allowed\",\"free_kick_goals_against_gk\",\"corner_kick_goals_against_gk\",\"own_goals_against_gk\",\"psxg_gk\",\"psnpxg_per_shot_on_target_against\",\"psxg_net_gk\",\"psxg_net_per90_gk\",\"passes_completed_launched_gk\",\"passes_launched_gk\",\"passes_pct_launched_gk\",\"passes_gk\",\"passes_throws_gk\",\"pct_passes_launched_gk\",\"passes_length_avg_gk\",\"goal_kicks\",\"pct_goal_kicks_launched\",\"goal_kick_length_avg\",\"crosses_gk\",\"crosses_stopped_gk\",\"crosses_stopped_pct_gk\",\"def_actions_outside_pen_area_gk\",\"def_actions_outside_pen_area_per90_gk\",\"avg_distance_def_actions_gk\"]\n",
    "#shooting(shooting)\n",
    "shooting = [\"player\",\"nationality\",\"position\",\"squad\",\"age\",\"birth_year\",\"minutes_90s\",\"goals\",\"pens_made\",\"pens_att\",\"shots_total\",\"shots_on_target\",\"shots_free_kicks\",\"shots_on_target_pct\",\"shots_total_per90\",\"shots_on_target_per90\",\"goals_per_shot\",\"goals_per_shot_on_target\",\"xg\",\"npxg\",\"npxg_per_shot\",\"xg_net\",\"npxg_net\"]\n",
    "shooting2 = [\"minutes_90s\",\"goals\",\"pens_made\",\"pens_att\",\"shots_total\",\"shots_on_target\",\"shots_free_kicks\",\"shots_on_target_pct\",\"shots_total_per90\",\"shots_on_target_per90\",\"goals_per_shot\",\"goals_per_shot_on_target\",\"xg\",\"npxg\",\"npxg_per_shot\",\"xg_net\",\"npxg_net\"]\n",
    "shooting3 = [\"goals\",\"pens_made\",\"pens_att\",\"shots_total\",\"shots_on_target\",\"shots_free_kicks\",\"shots_on_target_pct\",\"shots_total_per90\",\"shots_on_target_per90\",\"goals_per_shot\",\"goals_per_shot_on_target\",\"xg\",\"npxg\",\"npxg_per_shot\",\"xg_net\",\"npxg_net\"]\n",
    "#passing(passing)\n",
    "passing = [\"player\",\"nationality\",\"position\",\"squad\",\"age\",\"birth_year\",\"minutes_90s\",\"passes_completed\",\"passes\",\"passes_pct\",\"passes_total_distance\",\"passes_progressive_distance\",\"passes_completed_short\",\"passes_short\",\"passes_pct_short\",\"passes_completed_medium\",\"passes_medium\",\"passes_pct_medium\",\"passes_completed_long\",\"passes_long\",\"passes_pct_long\",\"assists\",\"xa\",\"xa_net\",\"assisted_shots\",\"passes_into_final_third\",\"passes_into_penalty_area\",\"crosses_into_penalty_area\",\"progressive_passes\"]\n",
    "passing2 = [\"passes_completed\",\"passes\",\"passes_pct\",\"passes_total_distance\",\"passes_progressive_distance\",\"passes_completed_short\",\"passes_short\",\"passes_pct_short\",\"passes_completed_medium\",\"passes_medium\",\"passes_pct_medium\",\"passes_completed_long\",\"passes_long\",\"passes_pct_long\",\"assists\",\"xa\",\"xa_net\",\"assisted_shots\",\"passes_into_final_third\",\"passes_into_penalty_area\",\"crosses_into_penalty_area\",\"progressive_passes\"]\n",
    "#passtypes(passing_types)\n",
    "passing_types = [\"player\",\"nationality\",\"position\",\"squad\",\"age\",\"birth_year\",\"minutes_90s\",\"passes\",\"passes_live\",\"passes_dead\",\"passes_free_kicks\",\"through_balls\",\"passes_pressure\",\"passes_switches\",\"crosses\",\"corner_kicks\",\"corner_kicks_in\",\"corner_kicks_out\",\"corner_kicks_straight\",\"passes_ground\",\"passes_low\",\"passes_high\",\"passes_left_foot\",\"passes_right_foot\",\"passes_head\",\"throw_ins\",\"passes_other_body\",\"passes_completed\",\"passes_offsides\",\"passes_oob\",\"passes_intercepted\",\"passes_blocked\"]\n",
    "passing_types2 = [\"passes\",\"passes_live\",\"passes_dead\",\"passes_free_kicks\",\"through_balls\",\"passes_pressure\",\"passes_switches\",\"crosses\",\"corner_kicks\",\"corner_kicks_in\",\"corner_kicks_out\",\"corner_kicks_straight\",\"passes_ground\",\"passes_low\",\"passes_high\",\"passes_left_foot\",\"passes_right_foot\",\"passes_head\",\"throw_ins\",\"passes_other_body\",\"passes_completed\",\"passes_offsides\",\"passes_oob\",\"passes_intercepted\",\"passes_blocked\"]\n",
    "#goal and shot creation(gca)\n",
    "gca = [\"player\",\"nationality\",\"position\",\"squad\",\"age\",\"birth_year\",\"minutes_90s\",\"sca\",\"sca_per90\",\"sca_passes_live\",\"sca_passes_dead\",\"sca_dribbles\",\"sca_shots\",\"sca_fouled\",\"gca\",\"gca_per90\",\"gca_passes_live\",\"gca_passes_dead\",\"gca_dribbles\",\"gca_shots\",\"gca_fouled\",\"gca_defense\"]\n",
    "gca2 = [\"sca\",\"sca_per90\",\"sca_passes_live\",\"sca_passes_dead\",\"sca_dribbles\",\"sca_shots\",\"sca_fouled\",\"gca\",\"gca_per90\",\"gca_passes_live\",\"gca_passes_dead\",\"gca_dribbles\",\"gca_shots\",\"gca_fouled\",\"gca_defense\"]\n",
    "#defensive actions(defense)\n",
    "defense = [\"player\",\"nationality\",\"position\",\"squad\",\"age\",\"birth_year\",\"minutes_90s\",\"tackles\",\"tackles_won\",\"tackles_def_3rd\",\"tackles_mid_3rd\",\"tackles_att_3rd\",\"dribble_tackles\",\"dribbles_vs\",\"dribble_tackles_pct\",\"dribbled_past\",\"pressures\",\"pressure_regains\",\"pressure_regain_pct\",\"pressures_def_3rd\",\"pressures_mid_3rd\",\"pressures_att_3rd\",\"blocks\",\"blocked_shots\",\"blocked_shots_saves\",\"blocked_passes\",\"interceptions\",\"clearances\",\"errors\"]\n",
    "defense2 = [\"tackles\",\"tackles_won\",\"tackles_def_3rd\",\"tackles_mid_3rd\",\"tackles_att_3rd\",\"dribble_tackles\",\"dribbles_vs\",\"dribble_tackles_pct\",\"dribbled_past\",\"pressures\",\"pressure_regains\",\"pressure_regain_pct\",\"pressures_def_3rd\",\"pressures_mid_3rd\",\"pressures_att_3rd\",\"blocks\",\"blocked_shots\",\"blocked_shots_saves\",\"blocked_passes\",\"interceptions\",\"clearances\",\"errors\"]\n",
    "#possession(possession)\n",
    "possession = [\"player\",\"nationality\",\"position\",\"squad\",\"age\",\"birth_year\",\"minutes_90s\",\"touches\",\"touches_def_pen_area\",\"touches_def_3rd\",\"touches_mid_3rd\",\"touches_att_3rd\",\"touches_att_pen_area\",\"touches_live_ball\",\"dribbles_completed\",\"dribbles\",\"dribbles_completed_pct\",\"players_dribbled_past\",\"nutmegs\",\"carries\",\"carry_distance\",\"carry_progressive_distance\",\"progressive_carries\",\"carries_into_final_third\",\"carries_into_penalty_area\",\"pass_targets\",\"passes_received\",\"passes_received_pct\",\"miscontrols\",\"dispossessed\"]\n",
    "possession2 = [\"touches\",\"touches_def_pen_area\",\"touches_def_3rd\",\"touches_mid_3rd\",\"touches_att_3rd\",\"touches_att_pen_area\",\"touches_live_ball\",\"dribbles_completed\",\"dribbles\",\"dribbles_completed_pct\",\"players_dribbled_past\",\"nutmegs\",\"carries\",\"carry_distance\",\"carry_progressive_distance\",\"progressive_carries\",\"carries_into_final_third\",\"carries_into_penalty_area\",\"pass_targets\",\"passes_received\",\"passes_received_pct\",\"miscontrols\",\"dispossessed\"]\n",
    "#playingtime(playingtime)\n",
    "playingtime = [\"player\",\"nationality\",\"position\",\"squad\",\"age\",\"birth_year\",\"minutes_90s\",\"games\",\"minutes\",\"minutes_per_game\",\"minutes_pct\",\"games_starts\",\"minutes_per_start\",\"games_subs\",\"minutes_per_sub\",\"unused_subs\",\"points_per_match\",\"on_goals_for\",\"on_goals_against\",\"plus_minus\",\"plus_minus_per90\",\"plus_minus_wowy\",\"on_xg_for\",\"on_xg_against\",\"xg_plus_minus\",\"xg_plus_minus_per90\",\"xg_plus_minus_wowy\"]\n",
    "playingtime2 = [\"games\",\"minutes\",\"minutes_per_game\",\"minutes_pct\",\"games_starts\",\"minutes_per_start\",\"games_subs\",\"minutes_per_sub\",\"unused_subs\",\"points_per_match\",\"on_goals_for\",\"on_goals_against\",\"plus_minus\",\"plus_minus_per90\",\"plus_minus_wowy\",\"on_xg_for\",\"on_xg_against\",\"xg_plus_minus\",\"xg_plus_minus_per90\",\"xg_plus_minus_wowy\"]\n",
    "#miscallaneous(misc)\n",
    "misc = [\"player\",\"nationality\",\"position\",\"squad\",\"age\",\"birth_year\",\"minutes_90s\",\"cards_yellow\",\"cards_red\",\"cards_yellow_red\",\"fouls\",\"fouled\",\"offsides\",\"crosses\",\"interceptions\",\"tackles_won\",\"pens_won\",\"pens_conceded\",\"own_goals\",\"ball_recoveries\",\"aerials_won\",\"aerials_lost\",\"aerials_won_pct\"]\n",
    "misc2 = [\"cards_yellow\",\"cards_red\",\"cards_yellow_red\",\"fouls\",\"fouled\",\"offsides\",\"crosses\",\"interceptions\",\"tackles_won\",\"pens_won\",\"pens_conceded\",\"own_goals\",\"ball_recoveries\",\"aerials_won\",\"aerials_lost\",\"aerials_won_pct\"]\n",
    "\n",
    "\n",
    "\n",
    "import requests\n",
    "from bs4 import BeautifulSoup\n",
    "import pandas as pd\n",
    "import numpy as np\n",
    "import re\n",
    "import sys, getopt\n",
    "import csv\n",
    "\n",
    "\n",
    "\n",
    "#Functions to get the data in a dataframe using BeautifulSoup\n",
    "\n",
    "def get_tables(url,text):\n",
    "    res = requests.get(url)\n",
    "    ## The next two lines get around the issue with comments breaking the parsing.\n",
    "    comm = re.compile(\"\")\n",
    "    soup = BeautifulSoup(comm.sub(\"\",res.text),'lxml')\n",
    "    all_tables = soup.findAll(\"tbody\")\n",
    "\n",
    "    team_table = all_tables[0]\n",
    "    team_vs_table = all_tables[1]\n",
    "    player_table = all_tables[2]\n",
    "    if text == 'for':\n",
    "        return player_table, team_table\n",
    "    if text == 'vs':\n",
    "        return player_table, team_vs_table\n",
    "\n",
    "def get_frame(features, player_table):\n",
    "    pre_df_player = dict()\n",
    "    features_wanted_player = features\n",
    "    rows_player = player_table.find_all('tr')\n",
    "    for row in rows_player:\n",
    "        if(row.find('th',{\"scope\":\"row\"}) != None):\n",
    "\n",
    "            for f in features_wanted_player:\n",
    "                cell = row.find(\"td\",{\"data-stat\": f})\n",
    "                a = cell.text.strip().encode()\n",
    "                text=a.decode(\"utf-8\")\n",
    "                if(text == ''):\n",
    "                    text = '0'\n",
    "                if((f!='player')&(f!='nationality')&(f!='position')&(f!='squad')&(f!='age')&(f!='birth_year')):\n",
    "                    text = float(text.replace(',',''))\n",
    "                if f in pre_df_player:\n",
    "                    pre_df_player[f].append(text)\n",
    "                else:\n",
    "                    pre_df_player[f] = [text]\n",
    "    df_player = pd.DataFrame.from_dict(pre_df_player)\n",
    "    return df_player\n",
    "\n",
    "def get_frame_team(features, team_table):\n",
    "    pre_df_squad = dict()\n",
    "    #Note: features does not contain squad name, it requires special treatment\n",
    "    features_wanted_squad = features\n",
    "    rows_squad = team_table.find_all('tr')\n",
    "    for row in rows_squad:\n",
    "        if(row.find('th',{\"scope\":\"row\"}) != None):\n",
    "            name = row.find('th',{\"data-stat\":\"squad\"}).text.strip().encode().decode(\"utf-8\")\n",
    "            if 'squad' in pre_df_squad:\n",
    "                pre_df_squad['squad'].append(name)\n",
    "            else:\n",
    "                pre_df_squad['squad'] = [name]\n",
    "            for f in features_wanted_squad:\n",
    "                cell = row.find(\"td\",{\"data-stat\": f})\n",
    "                a = cell.text.strip().encode()\n",
    "                text=a.decode(\"utf-8\")\n",
    "                if(text == ''):\n",
    "                    text = '0'\n",
    "                if((f!='player')&(f!='nationality')&(f!='position')&(f!='squad')&(f!='age')&(f!='birth_year')):\n",
    "                    text = float(text.replace(',',''))\n",
    "                if f in pre_df_squad:\n",
    "                    pre_df_squad[f].append(text)\n",
    "                else:\n",
    "                    pre_df_squad[f] = [text]\n",
    "    df_squad = pd.DataFrame.from_dict(pre_df_squad)\n",
    "    return df_squad\n",
    "\n",
    "def frame_for_category(category,top,end,features):\n",
    "    url = (top + category + end)\n",
    "    player_table, team_table = get_tables(url,'for')\n",
    "    df_player = get_frame(features, player_table)\n",
    "    return df_player\n",
    "\n",
    "def frame_for_category_team(category,top,end,features,text):\n",
    "    url = (top + category + end)\n",
    "    player_table, team_table = get_tables(url,text)\n",
    "    df_team = get_frame_team(features, team_table)\n",
    "    return df_team\n",
    "\n",
    "\n",
    "\n",
    "\n",
    "#Function to get the player data for outfield player, includes all categories - standard stats, shooting\n",
    "#passing, passing types, goal and shot creation, defensive actions, possession, and miscallaneous\n",
    "def get_outfield_data(top, end):\n",
    "    df1 = frame_for_category('stats',top,end,stats)\n",
    "    df2 = frame_for_category('shooting',top,end,shooting2)\n",
    "    df3 = frame_for_category('passing',top,end,passing2)\n",
    "    df4 = frame_for_category('passing_types',top,end,passing_types2)\n",
    "    df5 = frame_for_category('gca',top,end,gca2)\n",
    "    df6 = frame_for_category('defense',top,end,defense2)\n",
    "    df7 = frame_for_category('possession',top,end,possession2)\n",
    "    df8 = frame_for_category('misc',top,end,misc2)\n",
    "    df = pd.concat([df1, df2, df3, df4, df5, df6, df7, df8], axis=1)\n",
    "    df = df.loc[:,~df.columns.duplicated()]\n",
    "    return df\n",
    "\n",
    "\n",
    "#Function to get keeping and advance goalkeeping data\n",
    "def get_keeper_data(top,end):\n",
    "    df1 = frame_for_category('keepers',top,end,keepers)\n",
    "    df2 = frame_for_category('keepersadv',top,end,keepersadv2)\n",
    "    df = pd.concat([df1, df2], axis=1)\n",
    "    df = df.loc[:,~df.columns.duplicated()]\n",
    "    return df\n",
    "\n",
    "\n",
    "\n",
    "#Function to get team-wise data accross all categories as mentioned above\n",
    "def get_team_data(top,end,text):\n",
    "    df1 = frame_for_category_team('stats',top,end,stats3,text)\n",
    "    df2 = frame_for_category_team('keepers',top,end,keepers3,text)\n",
    "    df3 = frame_for_category_team('keepersadv',top,end,keepersadv2,text)\n",
    "    df4 = frame_for_category_team('shooting',top,end,shooting3,text)\n",
    "    df5 = frame_for_category_team('passing',top,end,passing2,text)\n",
    "    df6 = frame_for_category_team('passing_types',top,end,passing_types2,text)\n",
    "    df7 = frame_for_category_team('gca',top,end,gca2,text)\n",
    "    df8 = frame_for_category_team('defense',top,end,defense2,text)\n",
    "    df9 = frame_for_category_team('possession',top,end,possession2,text)\n",
    "    df10 = frame_for_category_team('misc',top,end,misc2,text)\n",
    "    df = pd.concat([df1, df2, df3, df4, df5, df6, df7, df8, df9, df10], axis=1)\n",
    "    df = df.loc[:,~df.columns.duplicated()]\n",
    "    return df"
   ],
   "metadata": {
    "collapsed": false,
    "ExecuteTime": {
     "end_time": "2023-12-03T16:27:15.459272Z",
     "start_time": "2023-12-03T16:27:14.666566Z"
    }
   },
   "id": "b2e09f2cf6fd830d"
  },
  {
   "cell_type": "code",
   "execution_count": 2,
   "outputs": [
    {
     "ename": "IndexError",
     "evalue": "list index out of range",
     "output_type": "error",
     "traceback": [
      "\u001B[0;31m---------------------------------------------------------------------------\u001B[0m",
      "\u001B[0;31mIndexError\u001B[0m                                Traceback (most recent call last)",
      "Cell \u001B[0;32mIn[2], line 6\u001B[0m\n\u001B[1;32m      1\u001B[0m \u001B[38;5;66;03m#This cell is to get the outfield player data for any competition\u001B[39;00m\n\u001B[1;32m      2\u001B[0m \n\u001B[1;32m      3\u001B[0m \u001B[38;5;66;03m#Go to the 'Standard stats' page of the league\u001B[39;00m\n\u001B[1;32m      4\u001B[0m \u001B[38;5;66;03m#For Premier League 2020/21, the link is this: https://fbref.com/en/comps/9/stats/Premier-League-Stats\u001B[39;00m\n\u001B[1;32m      5\u001B[0m \u001B[38;5;66;03m#Remove the 'stats', and pass the first and third part of the link as parameters like below\u001B[39;00m\n\u001B[0;32m----> 6\u001B[0m df_outfield \u001B[38;5;241m=\u001B[39m \u001B[43mget_outfield_data\u001B[49m\u001B[43m(\u001B[49m\u001B[38;5;124;43m'\u001B[39;49m\u001B[38;5;124;43mhttps://fbref.com/en/comps/9/\u001B[39;49m\u001B[38;5;124;43m'\u001B[39;49m\u001B[43m,\u001B[49m\u001B[38;5;124;43m'\u001B[39;49m\u001B[38;5;124;43m/Premier-League-Stats\u001B[39;49m\u001B[38;5;124;43m'\u001B[39;49m\u001B[43m)\u001B[49m\n\u001B[1;32m      8\u001B[0m \u001B[38;5;66;03m#Save csv file to Desktop\u001B[39;00m\n\u001B[1;32m      9\u001B[0m df_outfield\u001B[38;5;241m.\u001B[39mto_csv(\u001B[38;5;124m'\u001B[39m\u001B[38;5;124mPL2021_Outfield.csv\u001B[39m\u001B[38;5;124m'\u001B[39m,index\u001B[38;5;241m=\u001B[39m\u001B[38;5;28;01mFalse\u001B[39;00m)\n",
      "Cell \u001B[0;32mIn[1], line 134\u001B[0m, in \u001B[0;36mget_outfield_data\u001B[0;34m(top, end)\u001B[0m\n\u001B[1;32m    133\u001B[0m \u001B[38;5;28;01mdef\u001B[39;00m \u001B[38;5;21mget_outfield_data\u001B[39m(top, end):\n\u001B[0;32m--> 134\u001B[0m     df1 \u001B[38;5;241m=\u001B[39m \u001B[43mframe_for_category\u001B[49m\u001B[43m(\u001B[49m\u001B[38;5;124;43m'\u001B[39;49m\u001B[38;5;124;43mstats\u001B[39;49m\u001B[38;5;124;43m'\u001B[39;49m\u001B[43m,\u001B[49m\u001B[43mtop\u001B[49m\u001B[43m,\u001B[49m\u001B[43mend\u001B[49m\u001B[43m,\u001B[49m\u001B[43mstats\u001B[49m\u001B[43m)\u001B[49m\n\u001B[1;32m    135\u001B[0m     df2 \u001B[38;5;241m=\u001B[39m frame_for_category(\u001B[38;5;124m'\u001B[39m\u001B[38;5;124mshooting\u001B[39m\u001B[38;5;124m'\u001B[39m,top,end,shooting2)\n\u001B[1;32m    136\u001B[0m     df3 \u001B[38;5;241m=\u001B[39m frame_for_category(\u001B[38;5;124m'\u001B[39m\u001B[38;5;124mpassing\u001B[39m\u001B[38;5;124m'\u001B[39m,top,end,passing2)\n",
      "Cell \u001B[0;32mIn[1], line 118\u001B[0m, in \u001B[0;36mframe_for_category\u001B[0;34m(category, top, end, features)\u001B[0m\n\u001B[1;32m    116\u001B[0m \u001B[38;5;28;01mdef\u001B[39;00m \u001B[38;5;21mframe_for_category\u001B[39m(category,top,end,features):\n\u001B[1;32m    117\u001B[0m     url \u001B[38;5;241m=\u001B[39m (top \u001B[38;5;241m+\u001B[39m category \u001B[38;5;241m+\u001B[39m end)\n\u001B[0;32m--> 118\u001B[0m     player_table, team_table \u001B[38;5;241m=\u001B[39m \u001B[43mget_tables\u001B[49m\u001B[43m(\u001B[49m\u001B[43murl\u001B[49m\u001B[43m,\u001B[49m\u001B[38;5;124;43m'\u001B[39;49m\u001B[38;5;124;43mfor\u001B[39;49m\u001B[38;5;124;43m'\u001B[39;49m\u001B[43m)\u001B[49m\n\u001B[1;32m    119\u001B[0m     df_player \u001B[38;5;241m=\u001B[39m get_frame(features, player_table)\n\u001B[1;32m    120\u001B[0m     \u001B[38;5;28;01mreturn\u001B[39;00m df_player\n",
      "Cell \u001B[0;32mIn[1], line 61\u001B[0m, in \u001B[0;36mget_tables\u001B[0;34m(url, text)\u001B[0m\n\u001B[1;32m     59\u001B[0m team_table \u001B[38;5;241m=\u001B[39m all_tables[\u001B[38;5;241m0\u001B[39m]\n\u001B[1;32m     60\u001B[0m team_vs_table \u001B[38;5;241m=\u001B[39m all_tables[\u001B[38;5;241m1\u001B[39m]\n\u001B[0;32m---> 61\u001B[0m player_table \u001B[38;5;241m=\u001B[39m \u001B[43mall_tables\u001B[49m\u001B[43m[\u001B[49m\u001B[38;5;241;43m2\u001B[39;49m\u001B[43m]\u001B[49m\n\u001B[1;32m     62\u001B[0m \u001B[38;5;28;01mif\u001B[39;00m text \u001B[38;5;241m==\u001B[39m \u001B[38;5;124m'\u001B[39m\u001B[38;5;124mfor\u001B[39m\u001B[38;5;124m'\u001B[39m:\n\u001B[1;32m     63\u001B[0m     \u001B[38;5;28;01mreturn\u001B[39;00m player_table, team_table\n",
      "\u001B[0;31mIndexError\u001B[0m: list index out of range"
     ]
    }
   ],
   "source": [
    "#This cell is to get the outfield player data for any competition\n",
    "\n",
    "#Go to the 'Standard stats' page of the league\n",
    "#For Premier League 2020/21, the link is this: https://fbref.com/en/comps/9/stats/Premier-League-Stats\n",
    "#Remove the 'stats', and pass the first and third part of the link as parameters like below\n",
    "df_outfield = get_outfield_data('https://fbref.com/en/comps/9/','/Premier-League-Stats')\n",
    "\n",
    "#Save csv file to Desktop\n",
    "df_outfield.to_csv('PL2021_Outfield.csv',index=False)\n",
    "\n",
    "df_outfield"
   ],
   "metadata": {
    "collapsed": false,
    "ExecuteTime": {
     "end_time": "2023-12-03T16:27:39.974477Z",
     "start_time": "2023-12-03T16:27:38.983030Z"
    }
   },
   "id": "1e69e7015fa5489"
  },
  {
   "cell_type": "code",
   "execution_count": 7,
   "outputs": [],
   "source": [
    "# read csv link\n",
    "df=pd.read_csv('https://www.football-data.co.uk/mmz4281/2324/SP1.csv')"
   ],
   "metadata": {
    "collapsed": false,
    "ExecuteTime": {
     "end_time": "2023-12-03T16:38:01.481577Z",
     "start_time": "2023-12-03T16:38:00.133940Z"
    }
   },
   "id": "e4fbdc1aeb7462bb"
  },
  {
   "cell_type": "code",
   "execution_count": 10,
   "outputs": [
    {
     "data": {
      "text/plain": "     Div        Date   Time    HomeTeam     AwayTeam  FTHG  FTAG FTR  HTHG  \\\n0    SP1  11/08/2023  18:30     Almeria    Vallecano     0     2   A     0   \n1    SP1  11/08/2023  21:00     Sevilla     Valencia     1     2   A     0   \n2    SP1  12/08/2023  16:00    Sociedad       Girona     1     1   D     1   \n3    SP1  12/08/2023  18:30  Las Palmas     Mallorca     1     1   D     1   \n4    SP1  12/08/2023  20:30  Ath Bilbao  Real Madrid     0     2   A     0   \n..   ...         ...    ...         ...          ...   ...   ...  ..   ...   \n134  SP1  26/11/2023  15:15    Sociedad      Sevilla     2     1   H     2   \n135  SP1  26/11/2023  17:30       Cadiz  Real Madrid     0     3   A     0   \n136  SP1  26/11/2023  20:00       Betis   Las Palmas     1     0   H     1   \n137  SP1  27/11/2023  20:00      Girona   Ath Bilbao     1     1   D     0   \n138  SP1  29/11/2023  20:00    Mallorca        Cadiz     1     1   D     1   \n\n     HTAG  ... AvgC<2.5  AHCh  B365CAHH  B365CAHA  PCAHH  PCAHA  MaxCAHH  \\\n0       2  ...     1.64  0.00      1.85      2.08   1.86   2.07     1.91   \n1       0  ...     1.61 -0.50      1.94      1.99   1.94   1.98     1.96   \n2       0  ...     1.72 -0.75      2.05      1.75   2.10   1.82     2.14   \n3       0  ...     1.40 -0.25      2.18      1.77   2.20   1.77     2.21   \n4       2  ...     1.89  0.25      1.99      1.94   1.99   1.93     2.10   \n..    ...  ...      ...   ...       ...       ...    ...    ...      ...   \n134     0  ...     1.79 -0.75      1.80      2.14   1.81   2.12     1.84   \n135     1  ...     2.05  1.25      1.85      2.08   1.84   2.10     1.88   \n136     0  ...     1.74 -0.75      1.94      1.99   1.94   1.98     1.99   \n137     0  ...     2.22 -0.25      1.99      1.94   1.98   1.94     2.00   \n138     1  ...     1.52 -0.50      1.86      2.04   1.88   2.05     1.98   \n\n     MaxCAHA  AvgCAHH  AvgCAHA  \n0       2.09     1.86     2.01  \n1       2.00     1.93     1.94  \n2       1.90     2.04     1.82  \n3       1.79     2.15     1.75  \n4       1.96     1.95     1.90  \n..       ...      ...      ...  \n134     2.14     1.80     2.05  \n135     2.13     1.83     2.03  \n136     2.05     1.89     1.96  \n137     2.05     1.93     1.91  \n138     2.06     1.89     1.98  \n\n[139 rows x 105 columns]",
      "text/html": "<div>\n<style scoped>\n    .dataframe tbody tr th:only-of-type {\n        vertical-align: middle;\n    }\n\n    .dataframe tbody tr th {\n        vertical-align: top;\n    }\n\n    .dataframe thead th {\n        text-align: right;\n    }\n</style>\n<table border=\"1\" class=\"dataframe\">\n  <thead>\n    <tr style=\"text-align: right;\">\n      <th></th>\n      <th>Div</th>\n      <th>Date</th>\n      <th>Time</th>\n      <th>HomeTeam</th>\n      <th>AwayTeam</th>\n      <th>FTHG</th>\n      <th>FTAG</th>\n      <th>FTR</th>\n      <th>HTHG</th>\n      <th>HTAG</th>\n      <th>...</th>\n      <th>AvgC&lt;2.5</th>\n      <th>AHCh</th>\n      <th>B365CAHH</th>\n      <th>B365CAHA</th>\n      <th>PCAHH</th>\n      <th>PCAHA</th>\n      <th>MaxCAHH</th>\n      <th>MaxCAHA</th>\n      <th>AvgCAHH</th>\n      <th>AvgCAHA</th>\n    </tr>\n  </thead>\n  <tbody>\n    <tr>\n      <th>0</th>\n      <td>SP1</td>\n      <td>11/08/2023</td>\n      <td>18:30</td>\n      <td>Almeria</td>\n      <td>Vallecano</td>\n      <td>0</td>\n      <td>2</td>\n      <td>A</td>\n      <td>0</td>\n      <td>2</td>\n      <td>...</td>\n      <td>1.64</td>\n      <td>0.00</td>\n      <td>1.85</td>\n      <td>2.08</td>\n      <td>1.86</td>\n      <td>2.07</td>\n      <td>1.91</td>\n      <td>2.09</td>\n      <td>1.86</td>\n      <td>2.01</td>\n    </tr>\n    <tr>\n      <th>1</th>\n      <td>SP1</td>\n      <td>11/08/2023</td>\n      <td>21:00</td>\n      <td>Sevilla</td>\n      <td>Valencia</td>\n      <td>1</td>\n      <td>2</td>\n      <td>A</td>\n      <td>0</td>\n      <td>0</td>\n      <td>...</td>\n      <td>1.61</td>\n      <td>-0.50</td>\n      <td>1.94</td>\n      <td>1.99</td>\n      <td>1.94</td>\n      <td>1.98</td>\n      <td>1.96</td>\n      <td>2.00</td>\n      <td>1.93</td>\n      <td>1.94</td>\n    </tr>\n    <tr>\n      <th>2</th>\n      <td>SP1</td>\n      <td>12/08/2023</td>\n      <td>16:00</td>\n      <td>Sociedad</td>\n      <td>Girona</td>\n      <td>1</td>\n      <td>1</td>\n      <td>D</td>\n      <td>1</td>\n      <td>0</td>\n      <td>...</td>\n      <td>1.72</td>\n      <td>-0.75</td>\n      <td>2.05</td>\n      <td>1.75</td>\n      <td>2.10</td>\n      <td>1.82</td>\n      <td>2.14</td>\n      <td>1.90</td>\n      <td>2.04</td>\n      <td>1.82</td>\n    </tr>\n    <tr>\n      <th>3</th>\n      <td>SP1</td>\n      <td>12/08/2023</td>\n      <td>18:30</td>\n      <td>Las Palmas</td>\n      <td>Mallorca</td>\n      <td>1</td>\n      <td>1</td>\n      <td>D</td>\n      <td>1</td>\n      <td>0</td>\n      <td>...</td>\n      <td>1.40</td>\n      <td>-0.25</td>\n      <td>2.18</td>\n      <td>1.77</td>\n      <td>2.20</td>\n      <td>1.77</td>\n      <td>2.21</td>\n      <td>1.79</td>\n      <td>2.15</td>\n      <td>1.75</td>\n    </tr>\n    <tr>\n      <th>4</th>\n      <td>SP1</td>\n      <td>12/08/2023</td>\n      <td>20:30</td>\n      <td>Ath Bilbao</td>\n      <td>Real Madrid</td>\n      <td>0</td>\n      <td>2</td>\n      <td>A</td>\n      <td>0</td>\n      <td>2</td>\n      <td>...</td>\n      <td>1.89</td>\n      <td>0.25</td>\n      <td>1.99</td>\n      <td>1.94</td>\n      <td>1.99</td>\n      <td>1.93</td>\n      <td>2.10</td>\n      <td>1.96</td>\n      <td>1.95</td>\n      <td>1.90</td>\n    </tr>\n    <tr>\n      <th>...</th>\n      <td>...</td>\n      <td>...</td>\n      <td>...</td>\n      <td>...</td>\n      <td>...</td>\n      <td>...</td>\n      <td>...</td>\n      <td>...</td>\n      <td>...</td>\n      <td>...</td>\n      <td>...</td>\n      <td>...</td>\n      <td>...</td>\n      <td>...</td>\n      <td>...</td>\n      <td>...</td>\n      <td>...</td>\n      <td>...</td>\n      <td>...</td>\n      <td>...</td>\n      <td>...</td>\n    </tr>\n    <tr>\n      <th>134</th>\n      <td>SP1</td>\n      <td>26/11/2023</td>\n      <td>15:15</td>\n      <td>Sociedad</td>\n      <td>Sevilla</td>\n      <td>2</td>\n      <td>1</td>\n      <td>H</td>\n      <td>2</td>\n      <td>0</td>\n      <td>...</td>\n      <td>1.79</td>\n      <td>-0.75</td>\n      <td>1.80</td>\n      <td>2.14</td>\n      <td>1.81</td>\n      <td>2.12</td>\n      <td>1.84</td>\n      <td>2.14</td>\n      <td>1.80</td>\n      <td>2.05</td>\n    </tr>\n    <tr>\n      <th>135</th>\n      <td>SP1</td>\n      <td>26/11/2023</td>\n      <td>17:30</td>\n      <td>Cadiz</td>\n      <td>Real Madrid</td>\n      <td>0</td>\n      <td>3</td>\n      <td>A</td>\n      <td>0</td>\n      <td>1</td>\n      <td>...</td>\n      <td>2.05</td>\n      <td>1.25</td>\n      <td>1.85</td>\n      <td>2.08</td>\n      <td>1.84</td>\n      <td>2.10</td>\n      <td>1.88</td>\n      <td>2.13</td>\n      <td>1.83</td>\n      <td>2.03</td>\n    </tr>\n    <tr>\n      <th>136</th>\n      <td>SP1</td>\n      <td>26/11/2023</td>\n      <td>20:00</td>\n      <td>Betis</td>\n      <td>Las Palmas</td>\n      <td>1</td>\n      <td>0</td>\n      <td>H</td>\n      <td>1</td>\n      <td>0</td>\n      <td>...</td>\n      <td>1.74</td>\n      <td>-0.75</td>\n      <td>1.94</td>\n      <td>1.99</td>\n      <td>1.94</td>\n      <td>1.98</td>\n      <td>1.99</td>\n      <td>2.05</td>\n      <td>1.89</td>\n      <td>1.96</td>\n    </tr>\n    <tr>\n      <th>137</th>\n      <td>SP1</td>\n      <td>27/11/2023</td>\n      <td>20:00</td>\n      <td>Girona</td>\n      <td>Ath Bilbao</td>\n      <td>1</td>\n      <td>1</td>\n      <td>D</td>\n      <td>0</td>\n      <td>0</td>\n      <td>...</td>\n      <td>2.22</td>\n      <td>-0.25</td>\n      <td>1.99</td>\n      <td>1.94</td>\n      <td>1.98</td>\n      <td>1.94</td>\n      <td>2.00</td>\n      <td>2.05</td>\n      <td>1.93</td>\n      <td>1.91</td>\n    </tr>\n    <tr>\n      <th>138</th>\n      <td>SP1</td>\n      <td>29/11/2023</td>\n      <td>20:00</td>\n      <td>Mallorca</td>\n      <td>Cadiz</td>\n      <td>1</td>\n      <td>1</td>\n      <td>D</td>\n      <td>1</td>\n      <td>1</td>\n      <td>...</td>\n      <td>1.52</td>\n      <td>-0.50</td>\n      <td>1.86</td>\n      <td>2.04</td>\n      <td>1.88</td>\n      <td>2.05</td>\n      <td>1.98</td>\n      <td>2.06</td>\n      <td>1.89</td>\n      <td>1.98</td>\n    </tr>\n  </tbody>\n</table>\n<p>139 rows × 105 columns</p>\n</div>"
     },
     "execution_count": 10,
     "metadata": {},
     "output_type": "execute_result"
    }
   ],
   "source": [
    "df"
   ],
   "metadata": {
    "collapsed": false,
    "ExecuteTime": {
     "end_time": "2023-12-03T16:39:06.477280Z",
     "start_time": "2023-12-03T16:39:06.475150Z"
    }
   },
   "id": "d09501f5dcecf2dc"
  },
  {
   "cell_type": "code",
   "execution_count": 5,
   "outputs": [
    {
     "data": {
      "text/plain": "     Unnamed: 0_level_0 Unnamed: 1_level_0 Unnamed: 2_level_0  \\\n                 Player             Nation                Pos   \n0        William Saliba             fr FRA                 DF   \n1           Declan Rice            eng ENG                 MF   \n2    Gabriel Dos Santos             br BRA                 DF   \n3           Bukayo Saka            eng ENG                 FW   \n4             Ben White            eng ENG                 DF   \n5       Martin Ødegaard             no NOR                 MF   \n6           Kai Havertz             de GER                 MF   \n7            David Raya             es ESP                 GK   \n8    Gabriel Martinelli             br BRA                 FW   \n9   Oleksandr Zinchenko             ua UKR                 DF   \n10        Eddie Nketiah            eng ENG              FW,MF   \n11    Takehiro Tomiyasu             jp JPN                 DF   \n12        Gabriel Jesus             br BRA                 FW   \n13     Leandro Trossard             be BEL                 FW   \n14             Jorginho             it ITA                 MF   \n15       Aaron Ramsdale            eng ENG                 GK   \n16         Jakub Kiwior             pl POL                 DF   \n17         Fabio Vieira             pt POR                 FW   \n18        Thomas Partey             gh GHA                 MF   \n19         Reiss Nelson            eng ENG                 FW   \n20     Emile Smith Rowe            eng ENG                 MF   \n21       Jurriën Timber             nl NED                 DF   \n22     Charles Sagoe Jr            eng ENG                 FW   \n23       Kieran Tierney            sct SCO              DF,MF   \n24       Mohamed Elneny             eg EGY                 MF   \n25        Cédric Soares             pt POR              DF,MF   \n26          James Sweet            wls WAL                 MF   \n27          Matt Turner             us USA                 GK   \n28          Rob Holding            eng ENG                 DF   \n29      Bradley Ibrahim            eng ENG                 MF   \n30       Reuell Walters            eng ENG                 DF   \n31   Myles Lewis-Skelly            eng ENG                 MF   \n32        Ethan Nwaneri            eng ENG                 MF   \n33       Amario Duberry            eng ENG                 FW   \n34      Karl Jakob Hein             ee EST                 GK   \n\n   Unnamed: 3_level_0 Unnamed: 4_level_0 Playing Time                \\\n                  Age                 MP       Starts     Min   90s   \n0              22-263                 22           22  1980.0  22.0   \n1              24-332                 23           22  1915.0  21.3   \n2              25-358                 22           20  1822.0  20.2   \n3              22-098                 22           21  1747.0  19.4   \n4              26-065                 23           19  1723.0  19.1   \n5              24-360                 20           18  1586.0  17.6   \n6              24-184                 24           17  1542.0  17.1   \n7              28-088                 16           16  1440.0  16.0   \n8              22-177                 19           17  1366.0  15.2   \n9              26-362                 21           15  1257.0  14.0   \n10             24-196                 21           11  1033.0  11.5   \n11             25-037                 19           10  1016.0  11.3   \n12             26-253                 16           12  1007.0  11.2   \n13             29-008                 18            9   829.0   9.2   \n14             31-357                 17            8   742.0   8.2   \n15             25-212                  8            8   720.0   8.0   \n16             23-300                 11            5   480.0   5.3   \n17             23-196                 13            3   424.0   4.7   \n18             30-182                  5            4   341.0   3.8   \n19             24-002                 12            2   301.0   3.3   \n20             23-137                  8            2   235.0   2.6   \n21             22-178                  2            2   124.0   1.4   \n22             19-141                  1            1    67.0   0.7   \n23             26-190                  1            0    15.0   0.2   \n24             31-154                  3            0    12.0   0.1   \n25             32-103                  1            0     4.0   0.0   \n26             20-039                  0            0     NaN   NaN   \n27             29-171                  0            0     NaN   NaN   \n28             28-083                  0            0     NaN   NaN   \n29             19-052                  0            0     NaN   NaN   \n30             18-361                  0            0     NaN   NaN   \n31             17-077                  0            0     NaN   NaN   \n32             16-266                  0            0     NaN   NaN   \n33             18-197                  0            0     NaN   NaN   \n34             21-243                  0            0     NaN   NaN   \n\n   Performance        ... Per 90 Minutes                                 \\\n           Gls   Ast  ...            Ast   G+A  G-PK G+A-PK    xG   xAG   \n0          1.0   1.0  ...           0.05  0.09  0.05   0.09  0.05  0.00   \n1          3.0   2.0  ...           0.09  0.23  0.14   0.23  0.07  0.11   \n2          0.0   0.0  ...           0.00  0.00  0.00   0.00  0.07  0.04   \n3          8.0  11.0  ...           0.57  0.98  0.31   0.88  0.35  0.32   \n4          1.0   1.0  ...           0.05  0.10  0.05   0.10  0.04  0.13   \n5          7.0   2.0  ...           0.11  0.51  0.28   0.40  0.26  0.17   \n6          4.0   1.0  ...           0.06  0.29  0.18   0.23  0.29  0.12   \n7          0.0   0.0  ...           0.00  0.00  0.00   0.00  0.00  0.00   \n8          4.0   3.0  ...           0.20  0.46  0.26   0.46  0.24  0.19   \n9          1.0   1.0  ...           0.07  0.14  0.07   0.14  0.03  0.12   \n10         5.0   1.0  ...           0.09  0.52  0.44   0.52  0.39  0.02   \n11         1.0   3.0  ...           0.27  0.35  0.09   0.35  0.09  0.08   \n12         6.0   3.0  ...           0.27  0.80  0.54   0.80  0.51  0.26   \n13         6.0   2.0  ...           0.22  0.87  0.65   0.87  0.36  0.25   \n14         1.0   0.0  ...           0.00  0.12  0.00   0.00  0.14  0.02   \n15         0.0   0.0  ...           0.00  0.00  0.00   0.00  0.00  0.00   \n16         0.0   0.0  ...           0.00  0.00  0.00   0.00  0.14  0.01   \n17         1.0   3.0  ...           0.64  0.85  0.00   0.64  0.33  0.32   \n18         0.0   0.0  ...           0.00  0.00  0.00   0.00  0.03  0.04   \n19         1.0   1.0  ...           0.30  0.60  0.30   0.60  0.20  0.43   \n20         0.0   1.0  ...           0.38  0.38  0.00   0.38  0.60  0.10   \n21         0.0   0.0  ...           0.00  0.00  0.00   0.00  0.00  0.00   \n22         0.0   0.0  ...           0.00  0.00  0.00   0.00   NaN   NaN   \n23         0.0   0.0  ...           0.00  0.00  0.00   0.00   NaN   NaN   \n24         0.0   0.0  ...           0.00  0.00  0.00   0.00  0.00  0.00   \n25         0.0   0.0  ...           0.00  0.00  0.00   0.00   NaN   NaN   \n26         NaN   NaN  ...            NaN   NaN   NaN    NaN   NaN   NaN   \n27         NaN   NaN  ...            NaN   NaN   NaN    NaN   NaN   NaN   \n28         NaN   NaN  ...            NaN   NaN   NaN    NaN   NaN   NaN   \n29         NaN   NaN  ...            NaN   NaN   NaN    NaN   NaN   NaN   \n30         NaN   NaN  ...            NaN   NaN   NaN    NaN   NaN   NaN   \n31         NaN   NaN  ...            NaN   NaN   NaN    NaN   NaN   NaN   \n32         NaN   NaN  ...            NaN   NaN   NaN    NaN   NaN   NaN   \n33         NaN   NaN  ...            NaN   NaN   NaN    NaN   NaN   NaN   \n34         NaN   NaN  ...            NaN   NaN   NaN    NaN   NaN   NaN   \n\n                         Unnamed: 33_level_0  \n   xG+xAG  npxG npxG+xAG             Matches  \n0    0.06  0.05     0.06             Matches  \n1    0.17  0.07     0.17             Matches  \n2    0.10  0.07     0.10             Matches  \n3    0.67  0.26     0.58             Matches  \n4    0.17  0.04     0.17             Matches  \n5    0.42  0.16     0.33             Matches  \n6    0.41  0.23     0.36             Matches  \n7    0.00  0.00     0.00             Matches  \n8    0.42  0.24     0.42             Matches  \n9    0.15  0.03     0.15             Matches  \n10   0.41  0.39     0.41             Matches  \n11   0.16  0.09     0.16             Matches  \n12   0.76  0.51     0.76             Matches  \n13   0.61  0.36     0.61             Matches  \n14   0.16  0.02     0.04             Matches  \n15   0.00  0.00     0.00             Matches  \n16   0.15  0.14     0.15             Matches  \n17   0.65  0.12     0.43             Matches  \n18   0.06  0.03     0.06             Matches  \n19   0.63  0.20     0.63             Matches  \n20   0.70  0.60     0.70             Matches  \n21   0.00  0.00     0.00             Matches  \n22    NaN   NaN      NaN             Matches  \n23    NaN   NaN      NaN             Matches  \n24   0.00  0.00     0.00             Matches  \n25    NaN   NaN      NaN             Matches  \n26    NaN   NaN      NaN             Matches  \n27    NaN   NaN      NaN             Matches  \n28    NaN   NaN      NaN             Matches  \n29    NaN   NaN      NaN             Matches  \n30    NaN   NaN      NaN             Matches  \n31    NaN   NaN      NaN             Matches  \n32    NaN   NaN      NaN             Matches  \n33    NaN   NaN      NaN             Matches  \n34    NaN   NaN      NaN             Matches  \n\n[35 rows x 34 columns]",
      "text/html": "<div>\n<style scoped>\n    .dataframe tbody tr th:only-of-type {\n        vertical-align: middle;\n    }\n\n    .dataframe tbody tr th {\n        vertical-align: top;\n    }\n\n    .dataframe thead tr th {\n        text-align: left;\n    }\n</style>\n<table border=\"1\" class=\"dataframe\">\n  <thead>\n    <tr>\n      <th></th>\n      <th>Unnamed: 0_level_0</th>\n      <th>Unnamed: 1_level_0</th>\n      <th>Unnamed: 2_level_0</th>\n      <th>Unnamed: 3_level_0</th>\n      <th>Unnamed: 4_level_0</th>\n      <th colspan=\"3\" halign=\"left\">Playing Time</th>\n      <th colspan=\"2\" halign=\"left\">Performance</th>\n      <th>...</th>\n      <th colspan=\"9\" halign=\"left\">Per 90 Minutes</th>\n      <th>Unnamed: 33_level_0</th>\n    </tr>\n    <tr>\n      <th></th>\n      <th>Player</th>\n      <th>Nation</th>\n      <th>Pos</th>\n      <th>Age</th>\n      <th>MP</th>\n      <th>Starts</th>\n      <th>Min</th>\n      <th>90s</th>\n      <th>Gls</th>\n      <th>Ast</th>\n      <th>...</th>\n      <th>Ast</th>\n      <th>G+A</th>\n      <th>G-PK</th>\n      <th>G+A-PK</th>\n      <th>xG</th>\n      <th>xAG</th>\n      <th>xG+xAG</th>\n      <th>npxG</th>\n      <th>npxG+xAG</th>\n      <th>Matches</th>\n    </tr>\n  </thead>\n  <tbody>\n    <tr>\n      <th>0</th>\n      <td>William Saliba</td>\n      <td>fr FRA</td>\n      <td>DF</td>\n      <td>22-263</td>\n      <td>22</td>\n      <td>22</td>\n      <td>1980.0</td>\n      <td>22.0</td>\n      <td>1.0</td>\n      <td>1.0</td>\n      <td>...</td>\n      <td>0.05</td>\n      <td>0.09</td>\n      <td>0.05</td>\n      <td>0.09</td>\n      <td>0.05</td>\n      <td>0.00</td>\n      <td>0.06</td>\n      <td>0.05</td>\n      <td>0.06</td>\n      <td>Matches</td>\n    </tr>\n    <tr>\n      <th>1</th>\n      <td>Declan Rice</td>\n      <td>eng ENG</td>\n      <td>MF</td>\n      <td>24-332</td>\n      <td>23</td>\n      <td>22</td>\n      <td>1915.0</td>\n      <td>21.3</td>\n      <td>3.0</td>\n      <td>2.0</td>\n      <td>...</td>\n      <td>0.09</td>\n      <td>0.23</td>\n      <td>0.14</td>\n      <td>0.23</td>\n      <td>0.07</td>\n      <td>0.11</td>\n      <td>0.17</td>\n      <td>0.07</td>\n      <td>0.17</td>\n      <td>Matches</td>\n    </tr>\n    <tr>\n      <th>2</th>\n      <td>Gabriel Dos Santos</td>\n      <td>br BRA</td>\n      <td>DF</td>\n      <td>25-358</td>\n      <td>22</td>\n      <td>20</td>\n      <td>1822.0</td>\n      <td>20.2</td>\n      <td>0.0</td>\n      <td>0.0</td>\n      <td>...</td>\n      <td>0.00</td>\n      <td>0.00</td>\n      <td>0.00</td>\n      <td>0.00</td>\n      <td>0.07</td>\n      <td>0.04</td>\n      <td>0.10</td>\n      <td>0.07</td>\n      <td>0.10</td>\n      <td>Matches</td>\n    </tr>\n    <tr>\n      <th>3</th>\n      <td>Bukayo Saka</td>\n      <td>eng ENG</td>\n      <td>FW</td>\n      <td>22-098</td>\n      <td>22</td>\n      <td>21</td>\n      <td>1747.0</td>\n      <td>19.4</td>\n      <td>8.0</td>\n      <td>11.0</td>\n      <td>...</td>\n      <td>0.57</td>\n      <td>0.98</td>\n      <td>0.31</td>\n      <td>0.88</td>\n      <td>0.35</td>\n      <td>0.32</td>\n      <td>0.67</td>\n      <td>0.26</td>\n      <td>0.58</td>\n      <td>Matches</td>\n    </tr>\n    <tr>\n      <th>4</th>\n      <td>Ben White</td>\n      <td>eng ENG</td>\n      <td>DF</td>\n      <td>26-065</td>\n      <td>23</td>\n      <td>19</td>\n      <td>1723.0</td>\n      <td>19.1</td>\n      <td>1.0</td>\n      <td>1.0</td>\n      <td>...</td>\n      <td>0.05</td>\n      <td>0.10</td>\n      <td>0.05</td>\n      <td>0.10</td>\n      <td>0.04</td>\n      <td>0.13</td>\n      <td>0.17</td>\n      <td>0.04</td>\n      <td>0.17</td>\n      <td>Matches</td>\n    </tr>\n    <tr>\n      <th>5</th>\n      <td>Martin Ødegaard</td>\n      <td>no NOR</td>\n      <td>MF</td>\n      <td>24-360</td>\n      <td>20</td>\n      <td>18</td>\n      <td>1586.0</td>\n      <td>17.6</td>\n      <td>7.0</td>\n      <td>2.0</td>\n      <td>...</td>\n      <td>0.11</td>\n      <td>0.51</td>\n      <td>0.28</td>\n      <td>0.40</td>\n      <td>0.26</td>\n      <td>0.17</td>\n      <td>0.42</td>\n      <td>0.16</td>\n      <td>0.33</td>\n      <td>Matches</td>\n    </tr>\n    <tr>\n      <th>6</th>\n      <td>Kai Havertz</td>\n      <td>de GER</td>\n      <td>MF</td>\n      <td>24-184</td>\n      <td>24</td>\n      <td>17</td>\n      <td>1542.0</td>\n      <td>17.1</td>\n      <td>4.0</td>\n      <td>1.0</td>\n      <td>...</td>\n      <td>0.06</td>\n      <td>0.29</td>\n      <td>0.18</td>\n      <td>0.23</td>\n      <td>0.29</td>\n      <td>0.12</td>\n      <td>0.41</td>\n      <td>0.23</td>\n      <td>0.36</td>\n      <td>Matches</td>\n    </tr>\n    <tr>\n      <th>7</th>\n      <td>David Raya</td>\n      <td>es ESP</td>\n      <td>GK</td>\n      <td>28-088</td>\n      <td>16</td>\n      <td>16</td>\n      <td>1440.0</td>\n      <td>16.0</td>\n      <td>0.0</td>\n      <td>0.0</td>\n      <td>...</td>\n      <td>0.00</td>\n      <td>0.00</td>\n      <td>0.00</td>\n      <td>0.00</td>\n      <td>0.00</td>\n      <td>0.00</td>\n      <td>0.00</td>\n      <td>0.00</td>\n      <td>0.00</td>\n      <td>Matches</td>\n    </tr>\n    <tr>\n      <th>8</th>\n      <td>Gabriel Martinelli</td>\n      <td>br BRA</td>\n      <td>FW</td>\n      <td>22-177</td>\n      <td>19</td>\n      <td>17</td>\n      <td>1366.0</td>\n      <td>15.2</td>\n      <td>4.0</td>\n      <td>3.0</td>\n      <td>...</td>\n      <td>0.20</td>\n      <td>0.46</td>\n      <td>0.26</td>\n      <td>0.46</td>\n      <td>0.24</td>\n      <td>0.19</td>\n      <td>0.42</td>\n      <td>0.24</td>\n      <td>0.42</td>\n      <td>Matches</td>\n    </tr>\n    <tr>\n      <th>9</th>\n      <td>Oleksandr Zinchenko</td>\n      <td>ua UKR</td>\n      <td>DF</td>\n      <td>26-362</td>\n      <td>21</td>\n      <td>15</td>\n      <td>1257.0</td>\n      <td>14.0</td>\n      <td>1.0</td>\n      <td>1.0</td>\n      <td>...</td>\n      <td>0.07</td>\n      <td>0.14</td>\n      <td>0.07</td>\n      <td>0.14</td>\n      <td>0.03</td>\n      <td>0.12</td>\n      <td>0.15</td>\n      <td>0.03</td>\n      <td>0.15</td>\n      <td>Matches</td>\n    </tr>\n    <tr>\n      <th>10</th>\n      <td>Eddie Nketiah</td>\n      <td>eng ENG</td>\n      <td>FW,MF</td>\n      <td>24-196</td>\n      <td>21</td>\n      <td>11</td>\n      <td>1033.0</td>\n      <td>11.5</td>\n      <td>5.0</td>\n      <td>1.0</td>\n      <td>...</td>\n      <td>0.09</td>\n      <td>0.52</td>\n      <td>0.44</td>\n      <td>0.52</td>\n      <td>0.39</td>\n      <td>0.02</td>\n      <td>0.41</td>\n      <td>0.39</td>\n      <td>0.41</td>\n      <td>Matches</td>\n    </tr>\n    <tr>\n      <th>11</th>\n      <td>Takehiro Tomiyasu</td>\n      <td>jp JPN</td>\n      <td>DF</td>\n      <td>25-037</td>\n      <td>19</td>\n      <td>10</td>\n      <td>1016.0</td>\n      <td>11.3</td>\n      <td>1.0</td>\n      <td>3.0</td>\n      <td>...</td>\n      <td>0.27</td>\n      <td>0.35</td>\n      <td>0.09</td>\n      <td>0.35</td>\n      <td>0.09</td>\n      <td>0.08</td>\n      <td>0.16</td>\n      <td>0.09</td>\n      <td>0.16</td>\n      <td>Matches</td>\n    </tr>\n    <tr>\n      <th>12</th>\n      <td>Gabriel Jesus</td>\n      <td>br BRA</td>\n      <td>FW</td>\n      <td>26-253</td>\n      <td>16</td>\n      <td>12</td>\n      <td>1007.0</td>\n      <td>11.2</td>\n      <td>6.0</td>\n      <td>3.0</td>\n      <td>...</td>\n      <td>0.27</td>\n      <td>0.80</td>\n      <td>0.54</td>\n      <td>0.80</td>\n      <td>0.51</td>\n      <td>0.26</td>\n      <td>0.76</td>\n      <td>0.51</td>\n      <td>0.76</td>\n      <td>Matches</td>\n    </tr>\n    <tr>\n      <th>13</th>\n      <td>Leandro Trossard</td>\n      <td>be BEL</td>\n      <td>FW</td>\n      <td>29-008</td>\n      <td>18</td>\n      <td>9</td>\n      <td>829.0</td>\n      <td>9.2</td>\n      <td>6.0</td>\n      <td>2.0</td>\n      <td>...</td>\n      <td>0.22</td>\n      <td>0.87</td>\n      <td>0.65</td>\n      <td>0.87</td>\n      <td>0.36</td>\n      <td>0.25</td>\n      <td>0.61</td>\n      <td>0.36</td>\n      <td>0.61</td>\n      <td>Matches</td>\n    </tr>\n    <tr>\n      <th>14</th>\n      <td>Jorginho</td>\n      <td>it ITA</td>\n      <td>MF</td>\n      <td>31-357</td>\n      <td>17</td>\n      <td>8</td>\n      <td>742.0</td>\n      <td>8.2</td>\n      <td>1.0</td>\n      <td>0.0</td>\n      <td>...</td>\n      <td>0.00</td>\n      <td>0.12</td>\n      <td>0.00</td>\n      <td>0.00</td>\n      <td>0.14</td>\n      <td>0.02</td>\n      <td>0.16</td>\n      <td>0.02</td>\n      <td>0.04</td>\n      <td>Matches</td>\n    </tr>\n    <tr>\n      <th>15</th>\n      <td>Aaron Ramsdale</td>\n      <td>eng ENG</td>\n      <td>GK</td>\n      <td>25-212</td>\n      <td>8</td>\n      <td>8</td>\n      <td>720.0</td>\n      <td>8.0</td>\n      <td>0.0</td>\n      <td>0.0</td>\n      <td>...</td>\n      <td>0.00</td>\n      <td>0.00</td>\n      <td>0.00</td>\n      <td>0.00</td>\n      <td>0.00</td>\n      <td>0.00</td>\n      <td>0.00</td>\n      <td>0.00</td>\n      <td>0.00</td>\n      <td>Matches</td>\n    </tr>\n    <tr>\n      <th>16</th>\n      <td>Jakub Kiwior</td>\n      <td>pl POL</td>\n      <td>DF</td>\n      <td>23-300</td>\n      <td>11</td>\n      <td>5</td>\n      <td>480.0</td>\n      <td>5.3</td>\n      <td>0.0</td>\n      <td>0.0</td>\n      <td>...</td>\n      <td>0.00</td>\n      <td>0.00</td>\n      <td>0.00</td>\n      <td>0.00</td>\n      <td>0.14</td>\n      <td>0.01</td>\n      <td>0.15</td>\n      <td>0.14</td>\n      <td>0.15</td>\n      <td>Matches</td>\n    </tr>\n    <tr>\n      <th>17</th>\n      <td>Fabio Vieira</td>\n      <td>pt POR</td>\n      <td>FW</td>\n      <td>23-196</td>\n      <td>13</td>\n      <td>3</td>\n      <td>424.0</td>\n      <td>4.7</td>\n      <td>1.0</td>\n      <td>3.0</td>\n      <td>...</td>\n      <td>0.64</td>\n      <td>0.85</td>\n      <td>0.00</td>\n      <td>0.64</td>\n      <td>0.33</td>\n      <td>0.32</td>\n      <td>0.65</td>\n      <td>0.12</td>\n      <td>0.43</td>\n      <td>Matches</td>\n    </tr>\n    <tr>\n      <th>18</th>\n      <td>Thomas Partey</td>\n      <td>gh GHA</td>\n      <td>MF</td>\n      <td>30-182</td>\n      <td>5</td>\n      <td>4</td>\n      <td>341.0</td>\n      <td>3.8</td>\n      <td>0.0</td>\n      <td>0.0</td>\n      <td>...</td>\n      <td>0.00</td>\n      <td>0.00</td>\n      <td>0.00</td>\n      <td>0.00</td>\n      <td>0.03</td>\n      <td>0.04</td>\n      <td>0.06</td>\n      <td>0.03</td>\n      <td>0.06</td>\n      <td>Matches</td>\n    </tr>\n    <tr>\n      <th>19</th>\n      <td>Reiss Nelson</td>\n      <td>eng ENG</td>\n      <td>FW</td>\n      <td>24-002</td>\n      <td>12</td>\n      <td>2</td>\n      <td>301.0</td>\n      <td>3.3</td>\n      <td>1.0</td>\n      <td>1.0</td>\n      <td>...</td>\n      <td>0.30</td>\n      <td>0.60</td>\n      <td>0.30</td>\n      <td>0.60</td>\n      <td>0.20</td>\n      <td>0.43</td>\n      <td>0.63</td>\n      <td>0.20</td>\n      <td>0.63</td>\n      <td>Matches</td>\n    </tr>\n    <tr>\n      <th>20</th>\n      <td>Emile Smith Rowe</td>\n      <td>eng ENG</td>\n      <td>MF</td>\n      <td>23-137</td>\n      <td>8</td>\n      <td>2</td>\n      <td>235.0</td>\n      <td>2.6</td>\n      <td>0.0</td>\n      <td>1.0</td>\n      <td>...</td>\n      <td>0.38</td>\n      <td>0.38</td>\n      <td>0.00</td>\n      <td>0.38</td>\n      <td>0.60</td>\n      <td>0.10</td>\n      <td>0.70</td>\n      <td>0.60</td>\n      <td>0.70</td>\n      <td>Matches</td>\n    </tr>\n    <tr>\n      <th>21</th>\n      <td>Jurriën Timber</td>\n      <td>nl NED</td>\n      <td>DF</td>\n      <td>22-178</td>\n      <td>2</td>\n      <td>2</td>\n      <td>124.0</td>\n      <td>1.4</td>\n      <td>0.0</td>\n      <td>0.0</td>\n      <td>...</td>\n      <td>0.00</td>\n      <td>0.00</td>\n      <td>0.00</td>\n      <td>0.00</td>\n      <td>0.00</td>\n      <td>0.00</td>\n      <td>0.00</td>\n      <td>0.00</td>\n      <td>0.00</td>\n      <td>Matches</td>\n    </tr>\n    <tr>\n      <th>22</th>\n      <td>Charles Sagoe Jr</td>\n      <td>eng ENG</td>\n      <td>FW</td>\n      <td>19-141</td>\n      <td>1</td>\n      <td>1</td>\n      <td>67.0</td>\n      <td>0.7</td>\n      <td>0.0</td>\n      <td>0.0</td>\n      <td>...</td>\n      <td>0.00</td>\n      <td>0.00</td>\n      <td>0.00</td>\n      <td>0.00</td>\n      <td>NaN</td>\n      <td>NaN</td>\n      <td>NaN</td>\n      <td>NaN</td>\n      <td>NaN</td>\n      <td>Matches</td>\n    </tr>\n    <tr>\n      <th>23</th>\n      <td>Kieran Tierney</td>\n      <td>sct SCO</td>\n      <td>DF,MF</td>\n      <td>26-190</td>\n      <td>1</td>\n      <td>0</td>\n      <td>15.0</td>\n      <td>0.2</td>\n      <td>0.0</td>\n      <td>0.0</td>\n      <td>...</td>\n      <td>0.00</td>\n      <td>0.00</td>\n      <td>0.00</td>\n      <td>0.00</td>\n      <td>NaN</td>\n      <td>NaN</td>\n      <td>NaN</td>\n      <td>NaN</td>\n      <td>NaN</td>\n      <td>Matches</td>\n    </tr>\n    <tr>\n      <th>24</th>\n      <td>Mohamed Elneny</td>\n      <td>eg EGY</td>\n      <td>MF</td>\n      <td>31-154</td>\n      <td>3</td>\n      <td>0</td>\n      <td>12.0</td>\n      <td>0.1</td>\n      <td>0.0</td>\n      <td>0.0</td>\n      <td>...</td>\n      <td>0.00</td>\n      <td>0.00</td>\n      <td>0.00</td>\n      <td>0.00</td>\n      <td>0.00</td>\n      <td>0.00</td>\n      <td>0.00</td>\n      <td>0.00</td>\n      <td>0.00</td>\n      <td>Matches</td>\n    </tr>\n    <tr>\n      <th>25</th>\n      <td>Cédric Soares</td>\n      <td>pt POR</td>\n      <td>DF,MF</td>\n      <td>32-103</td>\n      <td>1</td>\n      <td>0</td>\n      <td>4.0</td>\n      <td>0.0</td>\n      <td>0.0</td>\n      <td>0.0</td>\n      <td>...</td>\n      <td>0.00</td>\n      <td>0.00</td>\n      <td>0.00</td>\n      <td>0.00</td>\n      <td>NaN</td>\n      <td>NaN</td>\n      <td>NaN</td>\n      <td>NaN</td>\n      <td>NaN</td>\n      <td>Matches</td>\n    </tr>\n    <tr>\n      <th>26</th>\n      <td>James Sweet</td>\n      <td>wls WAL</td>\n      <td>MF</td>\n      <td>20-039</td>\n      <td>0</td>\n      <td>0</td>\n      <td>NaN</td>\n      <td>NaN</td>\n      <td>NaN</td>\n      <td>NaN</td>\n      <td>...</td>\n      <td>NaN</td>\n      <td>NaN</td>\n      <td>NaN</td>\n      <td>NaN</td>\n      <td>NaN</td>\n      <td>NaN</td>\n      <td>NaN</td>\n      <td>NaN</td>\n      <td>NaN</td>\n      <td>Matches</td>\n    </tr>\n    <tr>\n      <th>27</th>\n      <td>Matt Turner</td>\n      <td>us USA</td>\n      <td>GK</td>\n      <td>29-171</td>\n      <td>0</td>\n      <td>0</td>\n      <td>NaN</td>\n      <td>NaN</td>\n      <td>NaN</td>\n      <td>NaN</td>\n      <td>...</td>\n      <td>NaN</td>\n      <td>NaN</td>\n      <td>NaN</td>\n      <td>NaN</td>\n      <td>NaN</td>\n      <td>NaN</td>\n      <td>NaN</td>\n      <td>NaN</td>\n      <td>NaN</td>\n      <td>Matches</td>\n    </tr>\n    <tr>\n      <th>28</th>\n      <td>Rob Holding</td>\n      <td>eng ENG</td>\n      <td>DF</td>\n      <td>28-083</td>\n      <td>0</td>\n      <td>0</td>\n      <td>NaN</td>\n      <td>NaN</td>\n      <td>NaN</td>\n      <td>NaN</td>\n      <td>...</td>\n      <td>NaN</td>\n      <td>NaN</td>\n      <td>NaN</td>\n      <td>NaN</td>\n      <td>NaN</td>\n      <td>NaN</td>\n      <td>NaN</td>\n      <td>NaN</td>\n      <td>NaN</td>\n      <td>Matches</td>\n    </tr>\n    <tr>\n      <th>29</th>\n      <td>Bradley Ibrahim</td>\n      <td>eng ENG</td>\n      <td>MF</td>\n      <td>19-052</td>\n      <td>0</td>\n      <td>0</td>\n      <td>NaN</td>\n      <td>NaN</td>\n      <td>NaN</td>\n      <td>NaN</td>\n      <td>...</td>\n      <td>NaN</td>\n      <td>NaN</td>\n      <td>NaN</td>\n      <td>NaN</td>\n      <td>NaN</td>\n      <td>NaN</td>\n      <td>NaN</td>\n      <td>NaN</td>\n      <td>NaN</td>\n      <td>Matches</td>\n    </tr>\n    <tr>\n      <th>30</th>\n      <td>Reuell Walters</td>\n      <td>eng ENG</td>\n      <td>DF</td>\n      <td>18-361</td>\n      <td>0</td>\n      <td>0</td>\n      <td>NaN</td>\n      <td>NaN</td>\n      <td>NaN</td>\n      <td>NaN</td>\n      <td>...</td>\n      <td>NaN</td>\n      <td>NaN</td>\n      <td>NaN</td>\n      <td>NaN</td>\n      <td>NaN</td>\n      <td>NaN</td>\n      <td>NaN</td>\n      <td>NaN</td>\n      <td>NaN</td>\n      <td>Matches</td>\n    </tr>\n    <tr>\n      <th>31</th>\n      <td>Myles Lewis-Skelly</td>\n      <td>eng ENG</td>\n      <td>MF</td>\n      <td>17-077</td>\n      <td>0</td>\n      <td>0</td>\n      <td>NaN</td>\n      <td>NaN</td>\n      <td>NaN</td>\n      <td>NaN</td>\n      <td>...</td>\n      <td>NaN</td>\n      <td>NaN</td>\n      <td>NaN</td>\n      <td>NaN</td>\n      <td>NaN</td>\n      <td>NaN</td>\n      <td>NaN</td>\n      <td>NaN</td>\n      <td>NaN</td>\n      <td>Matches</td>\n    </tr>\n    <tr>\n      <th>32</th>\n      <td>Ethan Nwaneri</td>\n      <td>eng ENG</td>\n      <td>MF</td>\n      <td>16-266</td>\n      <td>0</td>\n      <td>0</td>\n      <td>NaN</td>\n      <td>NaN</td>\n      <td>NaN</td>\n      <td>NaN</td>\n      <td>...</td>\n      <td>NaN</td>\n      <td>NaN</td>\n      <td>NaN</td>\n      <td>NaN</td>\n      <td>NaN</td>\n      <td>NaN</td>\n      <td>NaN</td>\n      <td>NaN</td>\n      <td>NaN</td>\n      <td>Matches</td>\n    </tr>\n    <tr>\n      <th>33</th>\n      <td>Amario Duberry</td>\n      <td>eng ENG</td>\n      <td>FW</td>\n      <td>18-197</td>\n      <td>0</td>\n      <td>0</td>\n      <td>NaN</td>\n      <td>NaN</td>\n      <td>NaN</td>\n      <td>NaN</td>\n      <td>...</td>\n      <td>NaN</td>\n      <td>NaN</td>\n      <td>NaN</td>\n      <td>NaN</td>\n      <td>NaN</td>\n      <td>NaN</td>\n      <td>NaN</td>\n      <td>NaN</td>\n      <td>NaN</td>\n      <td>Matches</td>\n    </tr>\n    <tr>\n      <th>34</th>\n      <td>Karl Jakob Hein</td>\n      <td>ee EST</td>\n      <td>GK</td>\n      <td>21-243</td>\n      <td>0</td>\n      <td>0</td>\n      <td>NaN</td>\n      <td>NaN</td>\n      <td>NaN</td>\n      <td>NaN</td>\n      <td>...</td>\n      <td>NaN</td>\n      <td>NaN</td>\n      <td>NaN</td>\n      <td>NaN</td>\n      <td>NaN</td>\n      <td>NaN</td>\n      <td>NaN</td>\n      <td>NaN</td>\n      <td>NaN</td>\n      <td>Matches</td>\n    </tr>\n  </tbody>\n</table>\n<p>35 rows × 34 columns</p>\n</div>"
     },
     "execution_count": 5,
     "metadata": {},
     "output_type": "execute_result"
    }
   ],
   "source": [
    "wazna_tabelka=pd.read_html(\"https://fbref.com/en/squads/18bb7c10/2023-2024/all_comps/Arsenal-Stats-All-Competitions#all_stats_standard\")\n",
    "wazna_tabelka[0]"
   ],
   "metadata": {
    "collapsed": false,
    "ExecuteTime": {
     "end_time": "2023-12-12T13:23:33.792548Z",
     "start_time": "2023-12-12T13:23:33.443368Z"
    }
   },
   "id": "a4b10a030b8a7a64"
  },
  {
   "cell_type": "code",
   "execution_count": null,
   "outputs": [],
   "source": [],
   "metadata": {
    "collapsed": false
   },
   "id": "5a922adab9300ebf"
  }
 ],
 "metadata": {
  "kernelspec": {
   "display_name": "Python 3",
   "language": "python",
   "name": "python3"
  },
  "language_info": {
   "codemirror_mode": {
    "name": "ipython",
    "version": 2
   },
   "file_extension": ".py",
   "mimetype": "text/x-python",
   "name": "python",
   "nbconvert_exporter": "python",
   "pygments_lexer": "ipython2",
   "version": "2.7.6"
  }
 },
 "nbformat": 4,
 "nbformat_minor": 5
}
